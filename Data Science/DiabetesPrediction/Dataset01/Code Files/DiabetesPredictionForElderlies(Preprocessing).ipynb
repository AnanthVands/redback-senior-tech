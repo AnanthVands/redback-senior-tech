{
  "nbformat": 4,
  "nbformat_minor": 0,
  "metadata": {
    "colab": {
      "provenance": [],
      "gpuType": "V100"
    },
    "kernelspec": {
      "name": "python3",
      "display_name": "Python 3"
    },
    "language_info": {
      "name": "python"
    }
  },
  "cells": [
    {
      "cell_type": "markdown",
      "source": [
        "#Author Info\n",
        "1) Name : Aman kag\n",
        "\n",
        "2) Deakin ID : 222476542"
      ],
      "metadata": {
        "id": "qUJgOU6-iDYF"
      }
    },
    {
      "cell_type": "markdown",
      "source": [
        "#Importing Necessary Libraries"
      ],
      "metadata": {
        "id": "NuY7xPKkiYRo"
      }
    },
    {
      "cell_type": "code",
      "source": [
        "#Importing libraries\n",
        "import pandas as pd\n",
        "import matplotlib.pyplot as plt\n",
        "import seaborn as sns"
      ],
      "metadata": {
        "id": "2VvT-60b6pYC"
      },
      "execution_count": 2,
      "outputs": []
    },
    {
      "cell_type": "markdown",
      "source": [
        "#Data Loading"
      ],
      "metadata": {
        "id": "cuBd69I2tByJ"
      }
    },
    {
      "cell_type": "code",
      "execution_count": 3,
      "metadata": {
        "id": "rqJL_oWRktLI"
      },
      "outputs": [],
      "source": [
        "#Here we are first loading the dataset into our Python environment\n",
        "Path_For_Our_dataset = '/content/drive/MyDrive/Project 2/diabetes_prediction_dataset.csv'\n",
        "HistoricDiabetes_Dataset = pd.read_csv(Path_For_Our_dataset)\n"
      ]
    },
    {
      "cell_type": "markdown",
      "source": [
        "# Pre-analysis / Data preprocessing"
      ],
      "metadata": {
        "id": "k05zb9r7rXfs"
      }
    },
    {
      "cell_type": "code",
      "source": [
        "# Here we view the first few rows of the dataset\n",
        "print(HistoricDiabetes_Dataset.head())"
      ],
      "metadata": {
        "colab": {
          "base_uri": "https://localhost:8080/"
        },
        "id": "_ixL1duhoQvY",
        "outputId": "63e14022-b802-4a71-949c-bc65460f9a85"
      },
      "execution_count": 4,
      "outputs": [
        {
          "output_type": "stream",
          "name": "stdout",
          "text": [
            "   gender   age  hypertension  heart_disease smoking_history    bmi  \\\n",
            "0  Female  80.0             0              1           never  25.19   \n",
            "1  Female  54.0             0              0         No Info  27.32   \n",
            "2    Male  28.0             0              0           never  27.32   \n",
            "3  Female  36.0             0              0         current  23.45   \n",
            "4    Male  76.0             1              1         current  20.14   \n",
            "\n",
            "   HbA1c_level  blood_glucose_level  diabetes  \n",
            "0          6.6                  140         0  \n",
            "1          6.6                   80         0  \n",
            "2          5.7                  158         0  \n",
            "3          5.0                  155         0  \n",
            "4          4.8                  155         0  \n"
          ]
        }
      ]
    },
    {
      "cell_type": "code",
      "source": [
        "# Filter the dataset to include only individuals aged 55 and above\n",
        "AmanAnalysis_elderlydata = HistoricDiabetes_Dataset[HistoricDiabetes_Dataset['age'] >= 55]\n",
        "\n",
        "# Save the new dataset to a CSV file, if desired\n",
        "AmanAnalysis_elderlydata.to_csv('AmanAnalysis_elderlydata.csv', index=False)\n",
        "\n",
        "# To view the first few rows of the new dataset\n",
        "print(AmanAnalysis_elderlydata.head())"
      ],
      "metadata": {
        "colab": {
          "base_uri": "https://localhost:8080/"
        },
        "id": "4WQXU0F5H_gy",
        "outputId": "5ab24d5a-96dc-4a76-c278-2739e138dd4b"
      },
      "execution_count": 5,
      "outputs": [
        {
          "output_type": "stream",
          "name": "stdout",
          "text": [
            "    gender   age  hypertension  heart_disease smoking_history    bmi  \\\n",
            "0   Female  80.0             0              1           never  25.19   \n",
            "4     Male  76.0             1              1         current  20.14   \n",
            "7   Female  79.0             0              0         No Info  23.86   \n",
            "12  Female  78.0             0              0          former  36.05   \n",
            "13  Female  67.0             0              0           never  25.69   \n",
            "\n",
            "    HbA1c_level  blood_glucose_level  diabetes  \n",
            "0           6.6                  140         0  \n",
            "4           4.8                  155         0  \n",
            "7           5.7                   85         0  \n",
            "12          5.0                  130         0  \n",
            "13          5.8                  200         0  \n"
          ]
        }
      ]
    },
    {
      "cell_type": "markdown",
      "source": [
        "# Data cleaning"
      ],
      "metadata": {
        "id": "3E-4eVUPmJXv"
      }
    },
    {
      "cell_type": "code",
      "source": [
        "# Handling null values -\n",
        "# Check for null values in each column\n",
        "ViewNullCounts = AmanAnalysis_elderlydata.isnull().sum()\n",
        "print(\"Null Values in Each Column:\")\n",
        "print(ViewNullCounts)\n"
      ],
      "metadata": {
        "colab": {
          "base_uri": "https://localhost:8080/"
        },
        "id": "64L1RhD4rGN9",
        "outputId": "774bd008-447e-4b69-da6f-5e3230d9d09f"
      },
      "execution_count": 6,
      "outputs": [
        {
          "output_type": "stream",
          "name": "stdout",
          "text": [
            "Null Values in Each Column:\n",
            "gender                 0\n",
            "age                    0\n",
            "hypertension           0\n",
            "heart_disease          0\n",
            "smoking_history        0\n",
            "bmi                    0\n",
            "HbA1c_level            0\n",
            "blood_glucose_level    0\n",
            "diabetes               0\n",
            "dtype: int64\n"
          ]
        }
      ]
    },
    {
      "cell_type": "markdown",
      "source": [
        "#Checking Typo mistakes in dataset"
      ],
      "metadata": {
        "id": "VKx6LDhXO2B8"
      }
    },
    {
      "cell_type": "code",
      "source": [
        "#Checking to find any other values in the columns\n",
        "# Unique values in each column\n",
        "print(\"\\nUnique Values in Each Column:\")\n",
        "for column in AmanAnalysis_elderlydata.columns:\n",
        "    unique_values = AmanAnalysis_elderlydata[column].unique()\n",
        "    print(f\"{column}: {unique_values}\")\n",
        "\n",
        "# Descriptive statistics for numeric columns ( to check if any negative are there)\n",
        "numeric_columns = AmanAnalysis_elderlydata.select_dtypes(include=['number']).columns\n",
        "descriptive_stats = AmanAnalysis_elderlydata[numeric_columns].describe()\n",
        "print(\"\\nDescriptive Statistics for Numeric Columns:\")\n",
        "print(descriptive_stats)"
      ],
      "metadata": {
        "colab": {
          "base_uri": "https://localhost:8080/"
        },
        "id": "GKO2fm5uAgB1",
        "outputId": "4f794999-8152-4516-a219-781d9524c10f"
      },
      "execution_count": 7,
      "outputs": [
        {
          "output_type": "stream",
          "name": "stdout",
          "text": [
            "\n",
            "Unique Values in Each Column:\n",
            "gender: ['Female' 'Male' 'Other']\n",
            "age: [80. 76. 79. 78. 67. 69. 72. 73. 77. 66. 60. 57. 74. 59. 56. 55. 62. 68.\n",
            " 75. 58. 61. 65. 70. 71. 64. 63.]\n",
            "hypertension: [0 1]\n",
            "heart_disease: [1 0]\n",
            "smoking_history: ['never' 'current' 'No Info' 'former' 'not current' 'ever']\n",
            "bmi: [25.19 20.14 23.86 ... 44.39 17.83 60.52]\n",
            "HbA1c_level: [6.6 4.8 5.7 5.  5.8 6.5 9.  3.5 4.  6.1 8.8 6.  8.2 7.5 6.2 6.8 7.  4.5]\n",
            "blood_glucose_level: [140 155  85 130 200 160 126 159 100 158 145 300 280  80  90 220 260 240]\n",
            "diabetes: [0 1]\n",
            "\n",
            "Descriptive Statistics for Numeric Columns:\n",
            "                age  hypertension  heart_disease           bmi   HbA1c_level  \\\n",
            "count  32262.000000  32262.000000   32262.000000  32262.000000  32262.000000   \n",
            "mean      67.677825      0.162544       0.105604     28.808840      5.680826   \n",
            "std        8.499511      0.368955       0.307335      5.667032      1.159069   \n",
            "min       55.000000      0.000000       0.000000     10.010000      3.500000   \n",
            "25%       60.000000      0.000000       0.000000     26.240000      4.800000   \n",
            "50%       67.000000      0.000000       0.000000     27.320000      5.800000   \n",
            "75%       76.000000      0.000000       0.000000     30.860000      6.500000   \n",
            "max       80.000000      1.000000       1.000000     88.760000      9.000000   \n",
            "\n",
            "       blood_glucose_level      diabetes  \n",
            "count         32262.000000  32262.000000  \n",
            "mean            144.361819      0.185171  \n",
            "std              46.435866      0.388443  \n",
            "min              80.000000      0.000000  \n",
            "25%             100.000000      0.000000  \n",
            "50%             145.000000      0.000000  \n",
            "75%             159.000000      0.000000  \n",
            "max             300.000000      1.000000  \n"
          ]
        }
      ]
    },
    {
      "cell_type": "code",
      "source": [
        "# Check data types of every column\n",
        "checkingDataTypes = AmanAnalysis_elderlydata.dtypes\n",
        "print(\"Data Types of Columns:\")\n",
        "print(checkingDataTypes)"
      ],
      "metadata": {
        "colab": {
          "base_uri": "https://localhost:8080/"
        },
        "id": "L5Enr1DGnZNN",
        "outputId": "dadf2ecb-f2a6-46b3-c357-692c31db5f1b"
      },
      "execution_count": 8,
      "outputs": [
        {
          "output_type": "stream",
          "name": "stdout",
          "text": [
            "Data Types of Columns:\n",
            "gender                  object\n",
            "age                    float64\n",
            "hypertension             int64\n",
            "heart_disease            int64\n",
            "smoking_history         object\n",
            "bmi                    float64\n",
            "HbA1c_level            float64\n",
            "blood_glucose_level      int64\n",
            "diabetes                 int64\n",
            "dtype: object\n"
          ]
        }
      ]
    },
    {
      "cell_type": "code",
      "source": [
        "# Check the total number of records in the filtered dataset\n",
        "check_total_records = AmanAnalysis_elderlydata.shape[0]\n",
        "print(f\"Total number of records for individuals aged 55 and above: {check_total_records}\")"
      ],
      "metadata": {
        "colab": {
          "base_uri": "https://localhost:8080/"
        },
        "id": "Tlv8Su06Ix_j",
        "outputId": "e73d956d-8af1-4a59-84ce-26a06dac4395"
      },
      "execution_count": 9,
      "outputs": [
        {
          "output_type": "stream",
          "name": "stdout",
          "text": [
            "Total number of records for individuals aged 55 and above: 32262\n"
          ]
        }
      ]
    },
    {
      "cell_type": "markdown",
      "source": [
        "#Checking outliers in dataset"
      ],
      "metadata": {
        "id": "fbSYbhNbPaEe"
      }
    },
    {
      "cell_type": "code",
      "source": [
        "# Using box plot which is used for outlier detection\n",
        "\n",
        "# Features to plot\n",
        "features = ['bmi', 'HbA1c_level', 'blood_glucose_level']\n",
        "\n",
        "# Create a box plot for each feature\n",
        "for feature in features:\n",
        "    plt.figure(figsize=(10, 6))\n",
        "    sns.boxplot(data=AmanAnalysis_elderlydata, x=feature, whis=1.5, width=0.5)\n",
        "    plt.title(f'Box Plot for {feature}')\n",
        "    plt.xlabel('Value')\n",
        "    plt.ylabel(feature)\n",
        "    plt.show()\n"
      ],
      "metadata": {
        "colab": {
          "base_uri": "https://localhost:8080/",
          "height": 1000
        },
        "id": "LIZ0VhjRK4e0",
        "outputId": "c1ca4402-bea2-44ce-ff17-aee52470b35a"
      },
      "execution_count": 10,
      "outputs": [
        {
          "output_type": "display_data",
          "data": {
            "text/plain": [
              "<Figure size 1000x600 with 1 Axes>"
            ],
            "image/png": "[encoded data removed]"
          },
          "metadata": {}
        },
        {
          "output_type": "display_data",
          "data": {
            "text/plain": [
              "<Figure size 1000x600 with 1 Axes>"
            ],
            "image/png": "[encoded data removed]"
          },
          "metadata": {}
        },
        {
          "output_type": "display_data",
          "data": {
            "text/plain": [
              "<Figure size 1000x600 with 1 Axes>"
            ],
            "image/png": "[encoded data removed]"
          },
          "metadata": {}
        }
      ]
    },
    {
      "cell_type": "code",
      "source": [
        "# Features to check for outliers\n",
        "features_to_check = ['bmi', 'HbA1c_level', 'blood_glucose_level']\n",
        "\n",
        "# Dictionary to hold outliers for each feature\n",
        "outliers_dict = {}\n",
        "\n",
        "# Function to find outliers using the IQR method\n",
        "def find_outliers(data, feature):\n",
        "    Q1 = data[feature].quantile(0.25)\n",
        "    Q3 = data[feature].quantile(0.75)\n",
        "    IQR = Q3 - Q1\n",
        "    lower_bound = Q1 - 1.5 * IQR\n",
        "    upper_bound = Q3 + 1.5 * IQR\n",
        "    outliers = data[(data[feature] < lower_bound) | (data[feature] > upper_bound)]\n",
        "    return outliers\n",
        "\n",
        "# Finding and storing outliers for each feature\n",
        "for feature in features_to_check:\n",
        "    outliers_dict[feature] = find_outliers(AmanAnalysis_elderlydata, feature)\n",
        "\n",
        "# Printing out the outliers for each feature\n",
        "for feature, outliers in outliers_dict.items():\n",
        "    print(f\"Outliers for {feature}:\")\n",
        "    print(outliers)\n",
        "    print(\"\\n\")\n"
      ],
      "metadata": {
        "colab": {
          "base_uri": "https://localhost:8080/"
        },
        "id": "ImUy5YljDCk-",
        "outputId": "bc9e6bd4-2f1f-41dd-b570-c79188f7025d"
      },
      "execution_count": 11,
      "outputs": [
        {
          "output_type": "stream",
          "name": "stdout",
          "text": [
            "Outliers for bmi:\n",
            "       gender   age  hypertension  heart_disease smoking_history    bmi  \\\n",
            "47     Female  60.0             0              0           never  18.03   \n",
            "59     Female  67.0             0              0           never  63.48   \n",
            "103    Female  55.0             0              0            ever  18.60   \n",
            "140    Female  80.0             1              0           never  44.06   \n",
            "169    Female  61.0             0              0     not current  39.36   \n",
            "...       ...   ...           ...            ...             ...    ...   \n",
            "99892  Female  67.0             0              0         No Info  44.39   \n",
            "99901  Female  72.0             0              0         current  17.83   \n",
            "99948  Female  56.0             1              0          former  39.62   \n",
            "99953  Female  59.0             1              0            ever  60.52   \n",
            "99962  Female  58.0             1              0           never  38.31   \n",
            "\n",
            "       HbA1c_level  blood_glucose_level  diabetes  \n",
            "47             4.0                  159         0  \n",
            "59             8.8                  155         1  \n",
            "103            6.0                  160         0  \n",
            "140            6.5                  160         0  \n",
            "169            9.0                  140         1  \n",
            "...            ...                  ...       ...  \n",
            "99892          6.0                  145         0  \n",
            "99901          6.0                  145         0  \n",
            "99948          4.5                  126         0  \n",
            "99953          3.5                  158         0  \n",
            "99962          7.0                  200         1  \n",
            "\n",
            "[2987 rows x 9 columns]\n",
            "\n",
            "\n",
            "Outliers for HbA1c_level:\n",
            "Empty DataFrame\n",
            "Columns: [gender, age, hypertension, heart_disease, smoking_history, bmi, HbA1c_level, blood_glucose_level, diabetes]\n",
            "Index: []\n",
            "\n",
            "\n",
            "Outliers for blood_glucose_level:\n",
            "       gender   age  hypertension  heart_disease smoking_history    bmi  \\\n",
            "94     Female  60.0             0              0           never  27.32   \n",
            "104    Female  80.0             1              0           never  27.32   \n",
            "125    Female  77.0             0              0           never  31.70   \n",
            "142    Female  80.0             0              0          former  21.97   \n",
            "361      Male  80.0             0              1          former  24.36   \n",
            "...       ...   ...           ...            ...             ...    ...   \n",
            "99708    Male  62.0             0              0     not current  27.32   \n",
            "99826    Male  63.0             0              1         No Info  27.32   \n",
            "99867    Male  64.0             1              0          former  33.12   \n",
            "99938    Male  55.0             0              1          former  30.42   \n",
            "99957  Female  61.0             0              0         No Info  34.45   \n",
            "\n",
            "       HbA1c_level  blood_glucose_level  diabetes  \n",
            "94             7.5                  300         1  \n",
            "104            6.8                  280         1  \n",
            "125            6.5                  280         1  \n",
            "142            7.0                  300         1  \n",
            "361            7.5                  280         1  \n",
            "...            ...                  ...       ...  \n",
            "99708          6.0                  300         1  \n",
            "99826          6.6                  300         1  \n",
            "99867          5.7                  300         1  \n",
            "99938          6.2                  300         1  \n",
            "99957          6.5                  280         1  \n",
            "\n",
            "[1435 rows x 9 columns]\n",
            "\n",
            "\n"
          ]
        }
      ]
    },
    {
      "cell_type": "markdown",
      "source": [
        "As there were so many outliers and it is medical dataset, we can't eliminate that many records, so we will check for extreme outliers.\n",
        "Here in the next code I have checked the outliers which are 4 times far away from normal interquantile range and could be potentially called extreme outliers."
      ],
      "metadata": {
        "id": "D-8jw7gjPy61"
      }
    },
    {
      "cell_type": "code",
      "source": [
        "def extreme_outliers(df, feature, multiplier=4):\n",
        "    Q1 = df[feature].quantile(0.25)\n",
        "    Q3 = df[feature].quantile(0.75)\n",
        "    IQR = Q3 - Q1\n",
        "    lower_bound = Q1 - multiplier * IQR\n",
        "    upper_bound = Q3 + multiplier * IQR\n",
        "    return df[(df[feature] < lower_bound) | (df[feature] > upper_bound)]\n",
        "\n",
        "features_to_check = ['bmi', 'blood_glucose_level']\n",
        "\n",
        "# Define the multiplier outside the function to use in the print statement\n",
        "multiplier = 4\n",
        "\n",
        "for feature in features_to_check:\n",
        "    outliers = extreme_outliers(AmanAnalysis_elderlydata, feature, multiplier)\n",
        "    print(f\"Extreme outliers for {feature} (using multiplier {multiplier}):\")\n",
        "    print(outliers[[feature]])"
      ],
      "metadata": {
        "colab": {
          "base_uri": "https://localhost:8080/"
        },
        "id": "S0hYmw02Ejhq",
        "outputId": "fc34bb5c-8faf-4d10-e981-3f8533dd55f3"
      },
      "execution_count": 12,
      "outputs": [
        {
          "output_type": "stream",
          "name": "stdout",
          "text": [
            "Extreme outliers for bmi (using multiplier 4):\n",
            "         bmi\n",
            "59     63.48\n",
            "618    60.26\n",
            "1395   60.20\n",
            "1862   51.61\n",
            "2059   52.67\n",
            "...      ...\n",
            "98706  54.59\n",
            "99579  57.78\n",
            "99650  52.97\n",
            "99793  50.85\n",
            "99953  60.52\n",
            "\n",
            "[256 rows x 1 columns]\n",
            "Extreme outliers for blood_glucose_level (using multiplier 4):\n",
            "Empty DataFrame\n",
            "Columns: [blood_glucose_level]\n",
            "Index: []\n"
          ]
        }
      ]
    },
    {
      "cell_type": "code",
      "source": [
        "#Checking the full row of the outlier , all the features (viewing starting 10 values)\n",
        "for feature in features_to_check:\n",
        "    outliers = extreme_outliers(AmanAnalysis_elderlydata, feature, multiplier)\n",
        "    print(f\"Extreme outliers for {feature} (using multiplier {multiplier}):\")\n",
        "    print(outliers.head(10))  # Print the first 10 rows of extreme outliers for each feature"
      ],
      "metadata": {
        "colab": {
          "base_uri": "https://localhost:8080/"
        },
        "id": "4eOO_i-AwHTt",
        "outputId": "b7eb1630-2829-4951-d96e-7b4c1a9ccd9d"
      },
      "execution_count": 13,
      "outputs": [
        {
          "output_type": "stream",
          "name": "stdout",
          "text": [
            "Extreme outliers for bmi (using multiplier 4):\n",
            "      gender   age  hypertension  heart_disease smoking_history    bmi  \\\n",
            "59    Female  67.0             0              0           never  63.48   \n",
            "618   Female  59.0             0              1           never  60.26   \n",
            "1395  Female  60.0             1              0         current  60.20   \n",
            "1862  Female  63.0             0              0           never  51.61   \n",
            "2059  Female  58.0             0              0          former  52.67   \n",
            "2113  Female  59.0             0              0            ever  59.03   \n",
            "2237  Female  80.0             0              0         No Info  50.77   \n",
            "3007    Male  63.0             0              0          former  50.30   \n",
            "3229  Female  67.0             0              1         No Info  68.10   \n",
            "3277  Female  69.0             0              0           never  57.79   \n",
            "\n",
            "      HbA1c_level  blood_glucose_level  diabetes  \n",
            "59            8.8                  155         1  \n",
            "618           8.8                  145         1  \n",
            "1395          7.0                  200         1  \n",
            "1862          5.8                  200         1  \n",
            "2059          6.6                  158         0  \n",
            "2113          6.1                  200         1  \n",
            "2237          5.0                   80         0  \n",
            "3007          6.5                  200         0  \n",
            "3229          6.2                  159         0  \n",
            "3277          6.2                  126         1  \n",
            "Extreme outliers for blood_glucose_level (using multiplier 4):\n",
            "Empty DataFrame\n",
            "Columns: [gender, age, hypertension, heart_disease, smoking_history, bmi, HbA1c_level, blood_glucose_level, diabetes]\n",
            "Index: []\n"
          ]
        }
      ]
    },
    {
      "cell_type": "markdown",
      "source": [
        "# Removing Extreme outlier -"
      ],
      "metadata": {
        "id": "ius9MIATQx-4"
      }
    },
    {
      "cell_type": "code",
      "source": [
        "def extreme_outliers(df, feature, multiplier=4):\n",
        "    Q1 = df[feature].quantile(0.25)\n",
        "    Q3 = df[feature].quantile(0.75)\n",
        "    IQR = Q3 - Q1\n",
        "    lower_bound = Q1 - multiplier * IQR\n",
        "    upper_bound = Q3 + multiplier * IQR\n",
        "    return df[(df[feature] >= lower_bound) & (df[feature] <= upper_bound)]  # Keeping only non-outliers\n",
        "\n",
        "multiplier = 4\n",
        "\n",
        "Cleaned_AmanAnalysis_elderlydata = AmanAnalysis_elderlydata.copy()  # Created a copy of the original data to preserve it\n",
        "\n",
        "for feature in features_to_check:\n",
        "    Cleaned_AmanAnalysis_elderlydata = extreme_outliers(Cleaned_AmanAnalysis_elderlydata, feature, multiplier)\n",
        "\n",
        "# Here I am Displaying cleaned data\n",
        "print(\"Cleaned Data:\")\n",
        "print(Cleaned_AmanAnalysis_elderlydata)\n",
        "\n",
        "# Displaying total record count\n",
        "total_records_cleaned = Cleaned_AmanAnalysis_elderlydata.shape[0]\n",
        "print(f\"\\nTotal Records after removing extreme outliers: {total_records_cleaned}\")\n"
      ],
      "metadata": {
        "colab": {
          "base_uri": "https://localhost:8080/"
        },
        "id": "dPFuCuZm13w0",
        "outputId": "193e5fdd-16b5-4eaf-f253-464670b38cf4"
      },
      "execution_count": 14,
      "outputs": [
        {
          "output_type": "stream",
          "name": "stdout",
          "text": [
            "Cleaned Data:\n",
            "       gender   age  hypertension  heart_disease smoking_history    bmi  \\\n",
            "0      Female  80.0             0              1           never  25.19   \n",
            "4        Male  76.0             1              1         current  20.14   \n",
            "7      Female  79.0             0              0         No Info  23.86   \n",
            "12     Female  78.0             0              0          former  36.05   \n",
            "13     Female  67.0             0              0           never  25.69   \n",
            "...       ...   ...           ...            ...             ...    ...   \n",
            "99984    Male  80.0             1              0         No Info  20.96   \n",
            "99986  Female  63.0             0              0           never  29.01   \n",
            "99995  Female  80.0             0              0         No Info  27.32   \n",
            "99997    Male  66.0             0              0          former  27.83   \n",
            "99999  Female  57.0             0              0         current  22.43   \n",
            "\n",
            "       HbA1c_level  blood_glucose_level  diabetes  \n",
            "0              6.6                  140         0  \n",
            "4              4.8                  155         0  \n",
            "7              5.7                   85         0  \n",
            "12             5.0                  130         0  \n",
            "13             5.8                  200         0  \n",
            "...            ...                  ...       ...  \n",
            "99984          6.6                   85         0  \n",
            "99986          4.8                  145         0  \n",
            "99995          6.2                   90         0  \n",
            "99997          5.7                  155         0  \n",
            "99999          6.6                   90         0  \n",
            "\n",
            "[32006 rows x 9 columns]\n",
            "\n",
            "Total Records after removing extreme outliers: 32006\n"
          ]
        }
      ]
    },
    {
      "cell_type": "markdown",
      "source": [
        "#Data Balancing"
      ],
      "metadata": {
        "id": "FcO7e29K50bJ"
      }
    },
    {
      "cell_type": "code",
      "source": [
        "# Histogram for Age Distribution\n",
        "plt.figure(figsize=(10, 6))\n",
        "sns.histplot(Cleaned_AmanAnalysis_elderlydata['age'], kde=True)\n",
        "plt.title('Age Distribution')\n",
        "plt.xlabel('Age')\n",
        "plt.ylabel('Count')\n",
        "plt.show()\n"
      ],
      "metadata": {
        "colab": {
          "base_uri": "https://localhost:8080/",
          "height": 564
        },
        "id": "fcu9IRNIJ1bR",
        "outputId": "125449fe-371b-40ff-e609-68eaa9230a2c"
      },
      "execution_count": 15,
      "outputs": [
        {
          "output_type": "display_data",
          "data": {
            "text/plain": [
              "<Figure size 1000x600 with 1 Axes>"
            ],
            "image/png": "[encoded data removed]"
          },
          "metadata": {}
        }
      ]
    },
    {
      "cell_type": "code",
      "source": [
        "# Counting the number of records where age is equal to 80 in the elderly dataset\n",
        "count_age_80_records = Cleaned_AmanAnalysis_elderlydata[Cleaned_AmanAnalysis_elderlydata['age'] == 80].shape[0]\n",
        "\n",
        "count_age_80_records\n"
      ],
      "metadata": {
        "colab": {
          "base_uri": "https://localhost:8080/"
        },
        "id": "JadJW1SRkMcw",
        "outputId": "08c12192-7e9e-4cdf-e8cc-fe2233c86607"
      },
      "execution_count": 16,
      "outputs": [
        {
          "output_type": "execute_result",
          "data": {
            "text/plain": [
              "5616"
            ]
          },
          "metadata": {},
          "execution_count": 16
        }
      ]
    },
    {
      "cell_type": "code",
      "source": [
        "# Define the age bins also I am making sure the last bin captures ages 80 and above\n",
        "bins = [55, 60, 65, 70, 75, 80, 81]\n",
        "bin_labels = [f\"[{bins[i]}, {bins[i+1]})\" for i in range(len(bins)-1)]\n",
        "\n",
        "# Bin the age column in the cleaned dataset\n",
        "Cleaned_AmanAnalysis_elderlydata['age_bin'] = pd.cut(Cleaned_AmanAnalysis_elderlydata['age'],\n",
        "                                                      bins=bins,\n",
        "                                                      labels=bin_labels,\n",
        "                                                      right=False)\n",
        "\n",
        "# Convert 'age_bin' to a categorical type with ordered categories\n",
        "Cleaned_AmanAnalysis_elderlydata['age_bin'] = pd.Categorical(Cleaned_AmanAnalysis_elderlydata['age_bin'],\n",
        "                                                             categories=bin_labels,\n",
        "                                                             ordered=True)\n",
        "\n",
        "# Plot the histogram for the binned age distribution\n",
        "plt.figure(figsize=(10, 6))\n",
        "# Extract the counts for each bin to ensure correct order\n",
        "age_bin_counts = Cleaned_AmanAnalysis_elderlydata['age_bin'].value_counts().loc[bin_labels]\n",
        "age_bin_counts = age_bin_counts.reindex(bin_labels, fill_value=0)  # Ensure all bins are present\n",
        "sns.barplot(x=age_bin_counts.index, y=age_bin_counts.values)\n",
        "plt.title('Age Distribution with Bins')\n",
        "plt.xlabel('Age Bins')\n",
        "plt.ylabel('Count')\n",
        "plt.xticks(rotation=45)\n",
        "plt.tight_layout()  # Also Adjusted layout to fit the x-axis labels\n",
        "plt.show()\n",
        "\n",
        "# Print the counts in each bin for reference\n",
        "print(age_bin_counts)\n"
      ],
      "metadata": {
        "colab": {
          "base_uri": "https://localhost:8080/",
          "height": 732
        },
        "id": "BcGroREX62N2",
        "outputId": "2d65dcc9-f131-42f2-e6a5-5d4121a1cd4b"
      },
      "execution_count": 17,
      "outputs": [
        {
          "output_type": "display_data",
          "data": {
            "text/plain": [
              "<Figure size 1000x600 with 1 Axes>"
            ],
            "image/png": "[encoded data removed]"
          },
          "metadata": {}
        },
        {
          "output_type": "stream",
          "name": "stdout",
          "text": [
            "[55, 60)    7116\n",
            "[60, 65)    6411\n",
            "[65, 70)    5239\n",
            "[70, 75)    4142\n",
            "[75, 80)    3482\n",
            "[80, 81)    5616\n",
            "Name: age_bin, dtype: int64\n"
          ]
        }
      ]
    },
    {
      "cell_type": "markdown",
      "source": [
        "#Again trying to change bin size to have better balanced dataset"
      ],
      "metadata": {
        "id": "jB60rjxAhQ0t"
      }
    },
    {
      "cell_type": "code",
      "source": [
        "# Display the first few rows of the DataFrame to check the 'age_bin' column\n",
        "Cleaned_AmanAnalysis_elderlydata.head()"
      ],
      "metadata": {
        "colab": {
          "base_uri": "https://localhost:8080/",
          "height": 206
        },
        "id": "Oh9VZCbK95dV",
        "outputId": "8063d96b-de25-4dca-cfe2-e9b7ce7f9adb"
      },
      "execution_count": 18,
      "outputs": [
        {
          "output_type": "execute_result",
          "data": {
            "text/plain": [
              "    gender   age  hypertension  heart_disease smoking_history    bmi  \\\n",
              "0   Female  80.0             0              1           never  25.19   \n",
              "4     Male  76.0             1              1         current  20.14   \n",
              "7   Female  79.0             0              0         No Info  23.86   \n",
              "12  Female  78.0             0              0          former  36.05   \n",
              "13  Female  67.0             0              0           never  25.69   \n",
              "\n",
              "    HbA1c_level  blood_glucose_level  diabetes   age_bin  \n",
              "0           6.6                  140         0  [80, 81)  \n",
              "4           4.8                  155         0  [75, 80)  \n",
              "7           5.7                   85         0  [75, 80)  \n",
              "12          5.0                  130         0  [75, 80)  \n",
              "13          5.8                  200         0  [65, 70)  "
            ],
            "text/html": [
              "\n",
              "  <div id=\"df-9e9bbe14-19ab-4999-8b0f-6db966eee5f0\" class=\"colab-df-container\">\n",
              "    <div>\n",
              "<style scoped>\n",
              "    .dataframe tbody tr th:only-of-type {\n",
              "        vertical-align: middle;\n",
              "    }\n",
              "\n",
              "    .dataframe tbody tr th {\n",
              "        vertical-align: top;\n",
              "    }\n",
              "\n",
              "    .dataframe thead th {\n",
              "        text-align: right;\n",
              "    }\n",
              "</style>\n",
              "<table border=\"1\" class=\"dataframe\">\n",
              "  <thead>\n",
              "    <tr style=\"text-align: right;\">\n",
              "      <th></th>\n",
              "      <th>gender</th>\n",
              "      <th>age</th>\n",
              "      <th>hypertension</th>\n",
              "      <th>heart_disease</th>\n",
              "      <th>smoking_history</th>\n",
              "      <th>bmi</th>\n",
              "      <th>HbA1c_level</th>\n",
              "      <th>blood_glucose_level</th>\n",
              "      <th>diabetes</th>\n",
              "      <th>age_bin</th>\n",
              "    </tr>\n",
              "  </thead>\n",
              "  <tbody>\n",
              "    <tr>\n",
              "      <th>0</th>\n",
              "      <td>Female</td>\n",
              "      <td>80.0</td>\n",
              "      <td>0</td>\n",
              "      <td>1</td>\n",
              "      <td>never</td>\n",
              "      <td>25.19</td>\n",
              "      <td>6.6</td>\n",
              "      <td>140</td>\n",
              "      <td>0</td>\n",
              "      <td>[80, 81)</td>\n",
              "    </tr>\n",
              "    <tr>\n",
              "      <th>4</th>\n",
              "      <td>Male</td>\n",
              "      <td>76.0</td>\n",
              "      <td>1</td>\n",
              "      <td>1</td>\n",
              "      <td>current</td>\n",
              "      <td>20.14</td>\n",
              "      <td>4.8</td>\n",
              "      <td>155</td>\n",
              "      <td>0</td>\n",
              "      <td>[75, 80)</td>\n",
              "    </tr>\n",
              "    <tr>\n",
              "      <th>7</th>\n",
              "      <td>Female</td>\n",
              "      <td>79.0</td>\n",
              "      <td>0</td>\n",
              "      <td>0</td>\n",
              "      <td>No Info</td>\n",
              "      <td>23.86</td>\n",
              "      <td>5.7</td>\n",
              "      <td>85</td>\n",
              "      <td>0</td>\n",
              "      <td>[75, 80)</td>\n",
              "    </tr>\n",
              "    <tr>\n",
              "      <th>12</th>\n",
              "      <td>Female</td>\n",
              "      <td>78.0</td>\n",
              "      <td>0</td>\n",
              "      <td>0</td>\n",
              "      <td>former</td>\n",
              "      <td>36.05</td>\n",
              "      <td>5.0</td>\n",
              "      <td>130</td>\n",
              "      <td>0</td>\n",
              "      <td>[75, 80)</td>\n",
              "    </tr>\n",
              "    <tr>\n",
              "      <th>13</th>\n",
              "      <td>Female</td>\n",
              "      <td>67.0</td>\n",
              "      <td>0</td>\n",
              "      <td>0</td>\n",
              "      <td>never</td>\n",
              "      <td>25.69</td>\n",
              "      <td>5.8</td>\n",
              "      <td>200</td>\n",
              "      <td>0</td>\n",
              "      <td>[65, 70)</td>\n",
              "    </tr>\n",
              "  </tbody>\n",
              "</table>\n",
              "</div>\n",
              "    <div class=\"colab-df-buttons\">\n",
              "\n",
              "  <div class=\"colab-df-container\">\n",
              "    <button class=\"colab-df-convert\" onclick=\"convertToInteractive('df-9e9bbe14-19ab-4999-8b0f-6db966eee5f0')\"\n",
              "            title=\"Convert this dataframe to an interactive table.\"\n",
              "            style=\"display:none;\">\n",
              "\n",
              "  <svg xmlns=\"http://www.w3.org/2000/svg\" height=\"24px\" viewBox=\"0 -960 960 960\">\n",
              "    <path d=\"M120-120v-720h720v720H120Zm60-500h600v-160H180v160Zm220 220h160v-160H400v160Zm0 220h160v-160H400v160ZM180-400h160v-160H180v160Zm440 0h160v-160H620v160ZM180-180h160v-160H180v160Zm440 0h160v-160H620v160Z\"/>\n",
              "  </svg>\n",
              "    </button>\n",
              "\n",
              "  <style>\n",
              "    .colab-df-container {\n",
              "      display:flex;\n",
              "      gap: 12px;\n",
              "    }\n",
              "\n",
              "    .colab-df-convert {\n",
              "      background-color: #E8F0FE;\n",
              "      border: none;\n",
              "      border-radius: 50%;\n",
              "      cursor: pointer;\n",
              "      display: none;\n",
              "      fill: #1967D2;\n",
              "      height: 32px;\n",
              "      padding: 0 0 0 0;\n",
              "      width: 32px;\n",
              "    }\n",
              "\n",
              "    .colab-df-convert:hover {\n",
              "      background-color: #E2EBFA;\n",
              "      box-shadow: 0px 1px 2px rgba(60, 64, 67, 0.3), 0px 1px 3px 1px rgba(60, 64, 67, 0.15);\n",
              "      fill: #174EA6;\n",
              "    }\n",
              "\n",
              "    .colab-df-buttons div {\n",
              "      margin-bottom: 4px;\n",
              "    }\n",
              "\n",
              "    [theme=dark] .colab-df-convert {\n",
              "      background-color: #3B4455;\n",
              "      fill: #D2E3FC;\n",
              "    }\n",
              "\n",
              "    [theme=dark] .colab-df-convert:hover {\n",
              "      background-color: #434B5C;\n",
              "      box-shadow: 0px 1px 3px 1px rgba(0, 0, 0, 0.15);\n",
              "      filter: drop-shadow(0px 1px 2px rgba(0, 0, 0, 0.3));\n",
              "      fill: #FFFFFF;\n",
              "    }\n",
              "  </style>\n",
              "\n",
              "    <script>\n",
              "      const buttonEl =\n",
              "        document.querySelector('#df-9e9bbe14-19ab-4999-8b0f-6db966eee5f0 button.colab-df-convert');\n",
              "      buttonEl.style.display =\n",
              "        google.colab.kernel.accessAllowed ? 'block' : 'none';\n",
              "\n",
              "      async function convertToInteractive(key) {\n",
              "        const element = document.querySelector('#df-9e9bbe14-19ab-4999-8b0f-6db966eee5f0');\n",
              "        const dataTable =\n",
              "          await google.colab.kernel.invokeFunction('convertToInteractive',\n",
              "                                                    [key], {});\n",
              "        if (!dataTable) return;\n",
              "\n",
              "        const docLinkHtml = 'Like what you see? Visit the ' +\n",
              "          '<a target=\"_blank\" href=https://colab.research.google.com/notebooks/data_table.ipynb>data table notebook</a>'\n",
              "          + ' to learn more about interactive tables.';\n",
              "        element.innerHTML = '';\n",
              "        dataTable['output_type'] = 'display_data';\n",
              "        await google.colab.output.renderOutput(dataTable, element);\n",
              "        const docLink = document.createElement('div');\n",
              "        docLink.innerHTML = docLinkHtml;\n",
              "        element.appendChild(docLink);\n",
              "      }\n",
              "    </script>\n",
              "  </div>\n",
              "\n",
              "\n",
              "<div id=\"df-f62c4c6c-339f-4ca2-891e-422e8a8d19da\">\n",
              "  <button class=\"colab-df-quickchart\" onclick=\"quickchart('df-f62c4c6c-339f-4ca2-891e-422e8a8d19da')\"\n",
              "            title=\"Suggest charts\"\n",
              "            style=\"display:none;\">\n",
              "\n",
              "<svg xmlns=\"http://www.w3.org/2000/svg\" height=\"24px\"viewBox=\"0 0 24 24\"\n",
              "     width=\"24px\">\n",
              "    <g>\n",
              "        <path d=\"M19 3H5c-1.1 0-2 .9-2 2v14c0 1.1.9 2 2 2h14c1.1 0 2-.9 2-2V5c0-1.1-.9-2-2-2zM9 17H7v-7h2v7zm4 0h-2V7h2v10zm4 0h-2v-4h2v4z\"/>\n",
              "    </g>\n",
              "</svg>\n",
              "  </button>\n",
              "\n",
              "<style>\n",
              "  .colab-df-quickchart {\n",
              "      --bg-color: #E8F0FE;\n",
              "      --fill-color: #1967D2;\n",
              "      --hover-bg-color: #E2EBFA;\n",
              "      --hover-fill-color: #174EA6;\n",
              "      --disabled-fill-color: #AAA;\n",
              "      --disabled-bg-color: #DDD;\n",
              "  }\n",
              "\n",
              "  [theme=dark] .colab-df-quickchart {\n",
              "      --bg-color: #3B4455;\n",
              "      --fill-color: #D2E3FC;\n",
              "      --hover-bg-color: #434B5C;\n",
              "      --hover-fill-color: #FFFFFF;\n",
              "      --disabled-bg-color: #3B4455;\n",
              "      --disabled-fill-color: #666;\n",
              "  }\n",
              "\n",
              "  .colab-df-quickchart {\n",
              "    background-color: var(--bg-color);\n",
              "    border: none;\n",
              "    border-radius: 50%;\n",
              "    cursor: pointer;\n",
              "    display: none;\n",
              "    fill: var(--fill-color);\n",
              "    height: 32px;\n",
              "    padding: 0;\n",
              "    width: 32px;\n",
              "  }\n",
              "\n",
              "  .colab-df-quickchart:hover {\n",
              "    background-color: var(--hover-bg-color);\n",
              "    box-shadow: 0 1px 2px rgba(60, 64, 67, 0.3), 0 1px 3px 1px rgba(60, 64, 67, 0.15);\n",
              "    fill: var(--button-hover-fill-color);\n",
              "  }\n",
              "\n",
              "  .colab-df-quickchart-complete:disabled,\n",
              "  .colab-df-quickchart-complete:disabled:hover {\n",
              "    background-color: var(--disabled-bg-color);\n",
              "    fill: var(--disabled-fill-color);\n",
              "    box-shadow: none;\n",
              "  }\n",
              "\n",
              "  .colab-df-spinner {\n",
              "    border: 2px solid var(--fill-color);\n",
              "    border-color: transparent;\n",
              "    border-bottom-color: var(--fill-color);\n",
              "    animation:\n",
              "      spin 1s steps(1) infinite;\n",
              "  }\n",
              "\n",
              "  @keyframes spin {\n",
              "    0% {\n",
              "      border-color: transparent;\n",
              "      border-bottom-color: var(--fill-color);\n",
              "      border-left-color: var(--fill-color);\n",
              "    }\n",
              "    20% {\n",
              "      border-color: transparent;\n",
              "      border-left-color: var(--fill-color);\n",
              "      border-top-color: var(--fill-color);\n",
              "    }\n",
              "    30% {\n",
              "      border-color: transparent;\n",
              "      border-left-color: var(--fill-color);\n",
              "      border-top-color: var(--fill-color);\n",
              "      border-right-color: var(--fill-color);\n",
              "    }\n",
              "    40% {\n",
              "      border-color: transparent;\n",
              "      border-right-color: var(--fill-color);\n",
              "      border-top-color: var(--fill-color);\n",
              "    }\n",
              "    60% {\n",
              "      border-color: transparent;\n",
              "      border-right-color: var(--fill-color);\n",
              "    }\n",
              "    80% {\n",
              "      border-color: transparent;\n",
              "      border-right-color: var(--fill-color);\n",
              "      border-bottom-color: var(--fill-color);\n",
              "    }\n",
              "    90% {\n",
              "      border-color: transparent;\n",
              "      border-bottom-color: var(--fill-color);\n",
              "    }\n",
              "  }\n",
              "</style>\n",
              "\n",
              "  <script>\n",
              "    async function quickchart(key) {\n",
              "      const quickchartButtonEl =\n",
              "        document.querySelector('#' + key + ' button');\n",
              "      quickchartButtonEl.disabled = true;  // To prevent multiple clicks.\n",
              "      quickchartButtonEl.classList.add('colab-df-spinner');\n",
              "      try {\n",
              "        const charts = await google.colab.kernel.invokeFunction(\n",
              "            'suggestCharts', [key], {});\n",
              "      } catch (error) {\n",
              "        console.error('Error during call to suggestCharts:', error);\n",
              "      }\n",
              "      quickchartButtonEl.classList.remove('colab-df-spinner');\n",
              "      quickchartButtonEl.classList.add('colab-df-quickchart-complete');\n",
              "    }\n",
              "    (() => {\n",
              "      let quickchartButtonEl =\n",
              "        document.querySelector('#df-f62c4c6c-339f-4ca2-891e-422e8a8d19da button');\n",
              "      quickchartButtonEl.style.display =\n",
              "        google.colab.kernel.accessAllowed ? 'block' : 'none';\n",
              "    })();\n",
              "  </script>\n",
              "</div>\n",
              "\n",
              "    </div>\n",
              "  </div>\n"
            ],
            "application/vnd.google.colaboratory.intrinsic+json": {
              "type": "dataframe",
              "variable_name": "Cleaned_AmanAnalysis_elderlydata",
              "summary": "{\n  \"name\": \"Cleaned_AmanAnalysis_elderlydata\",\n  \"rows\": 32006,\n  \"fields\": [\n    {\n      \"column\": \"gender\",\n      \"properties\": {\n        \"dtype\": \"category\",\n        \"num_unique_values\": 3,\n        \"samples\": [\n          \"Female\",\n          \"Male\",\n          \"Other\"\n        ],\n        \"semantic_type\": \"\",\n        \"description\": \"\"\n      }\n    },\n    {\n      \"column\": \"age\",\n      \"properties\": {\n        \"dtype\": \"number\",\n        \"std\": 8.505031570129095,\n        \"min\": 55.0,\n        \"max\": 80.0,\n        \"num_unique_values\": 26,\n        \"samples\": [\n          77.0,\n          62.0,\n          80.0\n        ],\n        \"semantic_type\": \"\",\n        \"description\": \"\"\n      }\n    },\n    {\n      \"column\": \"hypertension\",\n      \"properties\": {\n        \"dtype\": \"number\",\n        \"std\": 0,\n        \"min\": 0,\n        \"max\": 1,\n        \"num_unique_values\": 2,\n        \"samples\": [\n          1,\n          0\n        ],\n        \"semantic_type\": \"\",\n        \"description\": \"\"\n      }\n    },\n    {\n      \"column\": \"heart_disease\",\n      \"properties\": {\n        \"dtype\": \"number\",\n        \"std\": 0,\n        \"min\": 0,\n        \"max\": 1,\n        \"num_unique_values\": 2,\n        \"samples\": [\n          0,\n          1\n        ],\n        \"semantic_type\": \"\",\n        \"description\": \"\"\n      }\n    },\n    {\n      \"column\": \"smoking_history\",\n      \"properties\": {\n        \"dtype\": \"category\",\n        \"num_unique_values\": 6,\n        \"samples\": [\n          \"never\",\n          \"current\"\n        ],\n        \"semantic_type\": \"\",\n        \"description\": \"\"\n      }\n    },\n    {\n      \"column\": \"bmi\",\n      \"properties\": {\n        \"dtype\": \"number\",\n        \"std\": 5.187443440213295,\n        \"min\": 10.01,\n        \"max\": 49.32,\n        \"num_unique_values\": 2922,\n        \"samples\": [\n          29.05,\n          18.55\n        ],\n        \"semantic_type\": \"\",\n        \"description\": \"\"\n      }\n    },\n    {\n      \"column\": \"HbA1c_level\",\n      \"properties\": {\n        \"dtype\": \"number\",\n        \"std\": 1.1568158057961324,\n        \"min\": 3.5,\n        \"max\": 9.0,\n        \"num_unique_values\": 18,\n        \"samples\": [\n          6.6,\n          4.8\n        ],\n        \"semantic_type\": \"\",\n        \"description\": \"\"\n      }\n    },\n    {\n      \"column\": \"blood_glucose_level\",\n      \"properties\": {\n        \"dtype\": \"number\",\n        \"std\": 46,\n        \"min\": 80,\n        \"max\": 300,\n        \"num_unique_values\": 18,\n        \"samples\": [\n          140,\n          155\n        ],\n        \"semantic_type\": \"\",\n        \"description\": \"\"\n      }\n    },\n    {\n      \"column\": \"diabetes\",\n      \"properties\": {\n        \"dtype\": \"number\",\n        \"std\": 0,\n        \"min\": 0,\n        \"max\": 1,\n        \"num_unique_values\": 2,\n        \"samples\": [\n          1,\n          0\n        ],\n        \"semantic_type\": \"\",\n        \"description\": \"\"\n      }\n    },\n    {\n      \"column\": \"age_bin\",\n      \"properties\": {\n        \"dtype\": \"category\",\n        \"num_unique_values\": 6,\n        \"samples\": [\n          \"[80, 81)\",\n          \"[75, 80)\"\n        ],\n        \"semantic_type\": \"\",\n        \"description\": \"\"\n      }\n    }\n  ]\n}"
            }
          },
          "metadata": {},
          "execution_count": 18
        }
      ]
    },
    {
      "cell_type": "code",
      "source": [
        "#Creating a trial dataset or copy of dataset to try to balnce using diffrent range of bins.\n",
        "trial_data = Cleaned_AmanAnalysis_elderlydata.copy()\n",
        "\n",
        "# Adjust the bins based on the new trial results\n",
        "new_adjusted_bins = [55, 61, 68, 75, 81]\n",
        "new_adjusted_bin_labels = [f\"[{new_adjusted_bins[i]}, {new_adjusted_bins[i+1]})\" for i in range(len(new_adjusted_bins)-1)]\n",
        "\n",
        "# Applyed the new binning to the trial data\n",
        "trial_data['new_adjusted_age_bin'] = pd.cut(trial_data['age'], bins=new_adjusted_bins, labels=new_adjusted_bin_labels, right=False)\n",
        "\n",
        "# Convert 'new_adjusted_age_bin' to a categorical type with ordered categories\n",
        "trial_data['new_adjusted_age_bin'] = pd.Categorical(trial_data['new_adjusted_age_bin'], categories=new_adjusted_bin_labels, ordered=True)\n",
        "\n",
        "# Count the number of records in each new adjusted bin\n",
        "new_adjusted_bin_counts = trial_data['new_adjusted_age_bin'].value_counts().sort_index()\n",
        "\n",
        "# Output the new bin counts\n",
        "new_adjusted_bin_counts\n"
      ],
      "metadata": {
        "colab": {
          "base_uri": "https://localhost:8080/"
        },
        "id": "S8KHlUyTEJpl",
        "outputId": "a1224e44-af4a-4a13-a58b-654f7e64788a"
      },
      "execution_count": 22,
      "outputs": [
        {
          "output_type": "execute_result",
          "data": {
            "text/plain": [
              "[55, 61)    8514\n",
              "[61, 68)    8325\n",
              "[68, 75)    6069\n",
              "[75, 81)    9098\n",
              "Name: new_adjusted_age_bin, dtype: int64"
            ]
          },
          "metadata": {},
          "execution_count": 22
        }
      ]
    },
    {
      "cell_type": "code",
      "source": [
        "# Define the new adjusted bins\n",
        "new_adjusted_bins = [55, 61, 68, 75, 81]\n",
        "new_adjusted_bin_labels = [f\"[{new_adjusted_bins[i]}, {new_adjusted_bins[i+1]})\" for i in range(len(new_adjusted_bins)-1)]\n",
        "\n",
        "# Apply the new binning to the main cleaned dataset\n",
        "Cleaned_AmanAnalysis_elderlydata['new_adjusted_age_bin'] = pd.cut(Cleaned_AmanAnalysis_elderlydata['age'],\n",
        "                                                                   bins=new_adjusted_bins,\n",
        "                                                                   labels=new_adjusted_bin_labels,\n",
        "                                                                   right=False)\n",
        "\n",
        "# Convert 'new_adjusted_age_bin' to a categorical type with ordered categories\n",
        "Cleaned_AmanAnalysis_elderlydata['new_adjusted_age_bin'] = pd.Categorical(Cleaned_AmanAnalysis_elderlydata['new_adjusted_age_bin'],\n",
        "                                                                          categories=new_adjusted_bin_labels,\n",
        "                                                                          ordered=True)\n",
        "\n",
        "# Let's create a histogram based on the new adjusted age bins and counts\n",
        "plt.figure(figsize=(10, 6))\n",
        "sns.barplot(x=new_adjusted_bin_counts.index, y=new_adjusted_bin_counts.values)\n",
        "plt.title('Age Distribution with New Adjusted Bins')\n",
        "plt.xlabel('Age Bins')\n",
        "plt.ylabel('Count')\n",
        "plt.xticks(rotation=45)\n",
        "plt.show()\n",
        "\n"
      ],
      "metadata": {
        "colab": {
          "base_uri": "https://localhost:8080/",
          "height": 599
        },
        "id": "yhdnfuAjIPhf",
        "outputId": "1629c15a-119c-4c54-a5b7-9a9bd2b13660"
      },
      "execution_count": 23,
      "outputs": [
        {
          "output_type": "display_data",
          "data": {
            "text/plain": [
              "<Figure size 1000x600 with 1 Axes>"
            ],
            "image/png": "[encoded data removed]"
          },
          "metadata": {}
        }
      ]
    },
    {
      "source": [
        "from matplotlib import pyplot as plt\n",
        "Cleaned_AmanAnalysis_elderlydata['bmi'].plot(kind='line', figsize=(8, 4), title='bmi')\n",
        "plt.gca().spines[['top', 'right']].set_visible(False)"
      ],
      "cell_type": "code",
      "execution_count": 19,
      "outputs": [
        {
          "output_type": "display_data",
          "data": {
            "text/plain": [
              "<Figure size 800x400 with 1 Axes>"
            ],
            "image/png": "[encoded data removed]"
          },
          "metadata": {}
        }
      ],
      "metadata": {
        "colab": {
          "base_uri": "https://localhost:8080/",
          "height": 391
        },
        "id": "zgi6e6uCD0TD",
        "outputId": "7603adcc-77d2-4437-8617-de6fbec9646c"
      }
    },
    {
      "source": [
        "Cleaned_AmanAnalysis_elderlydata.groupby('smoking_history').size().plot(kind='barh', color=sns.palettes.mpl_palette('Dark2'))\n",
        "plt.gca().spines[['top', 'right',]].set_visible(False)"
      ],
      "cell_type": "code",
      "execution_count": 20,
      "outputs": [
        {
          "output_type": "display_data",
          "data": {
            "text/plain": [
              "<Figure size 640x480 with 1 Axes>"
            ],
            "image/png": "[encoded data removed]"
          },
          "metadata": {}
        }
      ],
      "metadata": {
        "colab": {
          "base_uri": "https://localhost:8080/",
          "height": 430
        },
        "id": "Sr5eT62d-qhR",
        "outputId": "89b03127-25e5-493d-bc91-99258d8bc8fa"
      }
    },
    {
      "cell_type": "markdown",
      "source": [
        "# Renaming the column and finally downloading the preprocessed dataset"
      ],
      "metadata": {
        "id": "GTWFXh6-RaHw"
      }
    },
    {
      "cell_type": "code",
      "source": [
        "# Drop the 'age_bin' column\n",
        "Cleaned_AmanAnalysis_elderlydata = Cleaned_AmanAnalysis_elderlydata.drop('age_bin', axis=1)\n",
        "\n",
        "# Rename 'new_adjusted_age_bin' to 'age_range'\n",
        "Cleaned_AmanAnalysis_elderlydata = Cleaned_AmanAnalysis_elderlydata.rename(columns={'new_adjusted_age_bin': 'age_range'})"
      ],
      "metadata": {
        "id": "e3XeTKwYNFNW"
      },
      "execution_count": 25,
      "outputs": []
    },
    {
      "cell_type": "code",
      "source": [
        "# Save the final dataset to a new CSV file\n",
        "final_csv_path = '/content/AmanAnalysis_Preprocessed_elderlydata.csv'\n",
        "Cleaned_AmanAnalysis_elderlydata.to_csv(final_csv_path, index=False)\n",
        "\n",
        "# Use the Google Colab 'files' module to download the CSV file to your local machine\n",
        "from google.colab import files\n",
        "files.download(final_csv_path)\n"
      ],
      "metadata": {
        "colab": {
          "base_uri": "https://localhost:8080/",
          "height": 17
        },
        "id": "ilvsnC-CMSbV",
        "outputId": "310a8f39-eded-483f-dca8-a7b171aaf004"
      },
      "execution_count": 27,
      "outputs": [
        {
          "output_type": "display_data",
          "data": {
            "text/plain": [
              "<IPython.core.display.Javascript object>"
            ],
            "application/javascript": [
              "\n",
              "    async function download(id, filename, size) {\n",
              "      if (!google.colab.kernel.accessAllowed) {\n",
              "        return;\n",
              "      }\n",
              "      const div = document.createElement('div');\n",
              "      const label = document.createElement('label');\n",
              "      label.textContent = `Downloading \"${filename}\": `;\n",
              "      div.appendChild(label);\n",
              "      const progress = document.createElement('progress');\n",
              "      progress.max = size;\n",
              "      div.appendChild(progress);\n",
              "      document.body.appendChild(div);\n",
              "\n",
              "      const buffers = [];\n",
              "      let downloaded = 0;\n",
              "\n",
              "      const channel = await google.colab.kernel.comms.open(id);\n",
              "      // Send a message to notify the kernel that we're ready.\n",
              "      channel.send({})\n",
              "\n",
              "      for await (const message of channel.messages) {\n",
              "        // Send a message to notify the kernel that we're ready.\n",
              "        channel.send({})\n",
              "        if (message.buffers) {\n",
              "          for (const buffer of message.buffers) {\n",
              "            buffers.push(buffer);\n",
              "            downloaded += buffer.byteLength;\n",
              "            progress.value = downloaded;\n",
              "          }\n",
              "        }\n",
              "      }\n",
              "      const blob = new Blob(buffers, {type: 'application/binary'});\n",
              "      const a = document.createElement('a');\n",
              "      a.href = window.URL.createObjectURL(blob);\n",
              "      a.download = filename;\n",
              "      div.appendChild(a);\n",
              "      a.click();\n",
              "      div.remove();\n",
              "    }\n",
              "  "
            ]
          },
          "metadata": {}
        },
        {
          "output_type": "display_data",
          "data": {
            "text/plain": [
              "<IPython.core.display.Javascript object>"
            ],
            "application/javascript": [
              "download(\"download_37e81cc4-cfb9-4a8e-aed6-2dc73d7e7fec\", \"AmanAnalysis_Preprocessed_elderlydata.csv\", 1573794)"
            ]
          },
          "metadata": {}
        }
      ]
    }
  ]
}