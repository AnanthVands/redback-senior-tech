{
 "cells": [
  {
   "cell_type": "code",
   "execution_count": 1,
   "id": "4adffd93-b77f-4baa-a64e-9629ee2ba350",
   "metadata": {
    "execution": {
     "iopub.execute_input": "2024-03-30T05:49:04.643889Z",
     "iopub.status.busy": "2024-03-30T05:49:04.642650Z",
     "iopub.status.idle": "2024-03-30T05:49:12.928425Z",
     "shell.execute_reply": "2024-03-30T05:49:12.926408Z",
     "shell.execute_reply.started": "2024-03-30T05:49:04.643813Z"
    }
   },
   "outputs": [
    {
     "name": "stdin",
     "output_type": "stream",
     "text": [
      "What is your name?  Manan\n",
      "What is your name?  quit\n"
     ]
    }
   ],
   "source": [
    "import pyttsx3\n",
    "import speech_recognition as sr\n",
    "\n",
    "# Initialize the engine\n",
    "engine = pyttsx3.init()\n",
    "\n",
    "engine.setProperty('rate', 180) # Talking speed\n",
    "engine.setProperty('volume', 0.8) # Volume between 0.0 and 1.0\n",
    "\n",
    "# Function that will speak the response to user\n",
    "def speak_response(response):\n",
    "    engine.say(response)\n",
    "    engine.runAndWait()\n",
    "\n",
    "# Function that will keep the voice assistant running\n",
    "def run_assistant():\n",
    "    while True:\n",
    "\n",
    "        \"\"\" TO-DO\n",
    "        - Get question from user\n",
    "        - use speech recognition to convert voice to text\n",
    "        - Get appropriate reponse based on input\n",
    "        - Send reponse to output\n",
    "        \"\"\"\n",
    "\n",
    "        # Dummy response\n",
    "        name = input(\"What is your name? \")\n",
    "\n",
    "        # If user says quit, then end assistant\n",
    "        if name.lower() == \"quit\":\n",
    "            break\n",
    "\n",
    "        # current dummy response by the voice assistant\n",
    "        speak_response(f\"Hello {name}, my name is Emma. I am your voice assistant.\")\n",
    "\n",
    "\n",
    "run_assistant()\n",
    "         "
   ]
  },
  {
   "cell_type": "code",
   "execution_count": 7,
   "id": "b5da4613-5911-478d-ac80-7a73e579cde0",
   "metadata": {
    "execution": {
     "iopub.execute_input": "2024-03-28T06:11:35.991871Z",
     "iopub.status.busy": "2024-03-28T06:11:35.990709Z",
     "iopub.status.idle": "2024-03-28T06:11:38.745683Z",
     "shell.execute_reply": "2024-03-28T06:11:38.744665Z",
     "shell.execute_reply.started": "2024-03-28T06:11:35.991813Z"
    }
   },
   "outputs": [
    {
     "name": "stdout",
     "output_type": "stream",
     "text": [
      "<class 'speech_recognition.audio.AudioData'>\n"
     ]
    },
    {
     "ename": "NameError",
     "evalue": "name 'text' is not defined",
     "output_type": "error",
     "traceback": [
      "\u001b[0;31m---------------------------------------------------------------------------\u001b[0m",
      "\u001b[0;31mNameError\u001b[0m                                 Traceback (most recent call last)",
      "Cell \u001b[0;32mIn[7], line 11\u001b[0m\n\u001b[1;32m      8\u001b[0m \u001b[38;5;66;03m# text = r.recognize_google(audio)\u001b[39;00m\n\u001b[1;32m      9\u001b[0m \u001b[38;5;66;03m# text = text.lower()\u001b[39;00m\n\u001b[1;32m     10\u001b[0m \u001b[38;5;28mprint\u001b[39m(\u001b[38;5;28mtype\u001b[39m(audio))\n\u001b[0;32m---> 11\u001b[0m \u001b[38;5;28;01mif\u001b[39;00m \u001b[43mtext\u001b[49m \u001b[38;5;241m==\u001b[39m \u001b[38;5;124m\"\u001b[39m\u001b[38;5;124mstop\u001b[39m\u001b[38;5;124m\"\u001b[39m:\n\u001b[1;32m     12\u001b[0m     \u001b[38;5;28mprint\u001b[39m(\u001b[38;5;28mtype\u001b[39m(audio))\n\u001b[1;32m     13\u001b[0m     \u001b[38;5;66;03m# break\u001b[39;00m\n\u001b[1;32m     14\u001b[0m \n\u001b[1;32m     15\u001b[0m \u001b[38;5;66;03m# except:\u001b[39;00m\n\u001b[1;32m     16\u001b[0m \u001b[38;5;66;03m#     break\u001b[39;00m\n",
      "\u001b[0;31mNameError\u001b[0m: name 'text' is not defined"
     ]
    }
   ],
   "source": [
    "import speech_recognition as sr\n",
    "r = sr.Recognizer()\n",
    "# while True:\n",
    "    # try:\n",
    "with sr.Microphone() as mic:\n",
    "    r.adjust_for_ambient_noise(mic, duration=0.2)\n",
    "    audio = r.listen(mic, phrase_time_limit=5)\n",
    "    # text = r.recognize_google(audio)\n",
    "    # text = text.lower()\n",
    "    print(type(audio))\n",
    "    # if text == \"stop\":\n",
    "    #     print(type(audio))\n",
    "        # break\n",
    "    \n",
    "    # except:\n",
    "    #     break"
   ]
  },
  {
   "cell_type": "code",
   "execution_count": 1,
   "id": "13a93f70-b6ed-4b93-89e5-cacbc5fa58ee",
   "metadata": {
    "execution": {
     "iopub.execute_input": "2024-03-28T06:08:23.759043Z",
     "iopub.status.busy": "2024-03-28T06:08:23.758287Z",
     "iopub.status.idle": "2024-03-28T06:08:25.148303Z",
     "shell.execute_reply": "2024-03-28T06:08:25.147772Z",
     "shell.execute_reply.started": "2024-03-28T06:08:23.758981Z"
    }
   },
   "outputs": [
    {
     "name": "stdout",
     "output_type": "stream",
     "text": [
      "['tiny.en', 'tiny', 'base.en', 'base', 'small.en', 'small', 'medium.en', 'medium', 'large-v1', 'large-v2', 'large-v3', 'large']\n"
     ]
    }
   ],
   "source": [
    "import whisper\n",
    "\n",
    "print(whisper.available_models())\n",
    "model = whisper.load_model(\"tiny\")\n",
    "# whisper."
   ]
  }
 ],
 "metadata": {
  "kernelspec": {
   "display_name": "Python 3 (ipykernel)",
   "language": "python",
   "name": "python3"
  },
  "language_info": {
   "codemirror_mode": {
    "name": "ipython",
    "version": 3
   },
   "file_extension": ".py",
   "mimetype": "text/x-python",
   "name": "python",
   "nbconvert_exporter": "python",
   "pygments_lexer": "ipython3",
   "version": "3.9.16"
  }
 },
 "nbformat": 4,
 "nbformat_minor": 5
}
