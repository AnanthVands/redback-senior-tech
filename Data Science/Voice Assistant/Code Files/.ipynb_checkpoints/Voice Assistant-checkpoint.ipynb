{
 "cells": [
  {
   "cell_type": "code",
   "execution_count": 1,
   "id": "4adffd93-b77f-4baa-a64e-9629ee2ba350",
   "metadata": {
    "execution": {
     "iopub.execute_input": "2024-03-30T05:49:04.643889Z",
     "iopub.status.busy": "2024-03-30T05:49:04.642650Z",
     "iopub.status.idle": "2024-03-30T05:49:12.928425Z",
     "shell.execute_reply": "2024-03-30T05:49:12.926408Z",
     "shell.execute_reply.started": "2024-03-30T05:49:04.643813Z"
    }
   },
   "outputs": [
    {
     "name": "stdin",
     "output_type": "stream",
     "text": [
      "What is your name?  Manan\n",
      "What is your name?  quit\n"
     ]
    }
   ],
   "source": [
    "import pyttsx3\n",
    "import speech_recognition as sr\n",
    "\n",
    "# Initialize the engine\n",
    "engine = pyttsx3.init()\n",
    "\n",
    "engine.setProperty('rate', 180) # Talking speed\n",
    "engine.setProperty('volume', 0.8) # Volume between 0.0 and 1.0\n",
    "\n",
    "# Function that will speak the response to user\n",
    "def speak_response(response):\n",
    "    engine.say(response)\n",
    "    engine.runAndWait()\n",
    "\n",
    "# Function that will keep the voice assistant running\n",
    "def run_assistant():\n",
    "    while True:\n",
    "\n",
    "        \"\"\" TO-DO\n",
    "        - Get question from user\n",
    "        - use speech recognition to convert voice to text\n",
    "        - Get appropriate reponse based on input\n",
    "        - Send reponse to output\n",
    "        \"\"\"\n",
    "\n",
    "        # Dummy response\n",
    "        name = input(\"What is your name? \")\n",
    "\n",
    "        # If user says quit, then end assistant\n",
    "        if name.lower() == \"quit\":\n",
    "            break\n",
    "\n",
    "        # current dummy response by the voice assistant\n",
    "        speak_response(f\"Hello {name}, my name is Emma. I am your voice assistant.\")\n",
    "\n",
    "\n",
    "run_assistant()\n",
    "         "
   ]
  }
 ],
 "metadata": {
  "kernelspec": {
   "display_name": "Python 3 (ipykernel)",
   "language": "python",
   "name": "python3"
  },
  "language_info": {
   "codemirror_mode": {
    "name": "ipython",
    "version": 3
   },
   "file_extension": ".py",
   "mimetype": "text/x-python",
   "name": "python",
   "nbconvert_exporter": "python",
   "pygments_lexer": "ipython3",
   "version": "3.9.16"
  }
 },
 "nbformat": 4,
 "nbformat_minor": 5
}
