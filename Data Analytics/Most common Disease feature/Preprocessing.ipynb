{
  "nbformat": 4,
  "nbformat_minor": 0,
  "metadata": {
    "colab": {
      "provenance": []
    },
    "kernelspec": {
      "name": "python3",
      "display_name": "Python 3"
    },
    "language_info": {
      "name": "python"
    }
  },
  "cells": [
    {
      "cell_type": "code",
      "execution_count": null,
      "metadata": {
        "id": "bEgDqedJNJri"
      },
      "outputs": [],
      "source": [
        "import pandas as pd\n",
        "import os\n",
        "\n",
        "# Directory where the Excel files are stored (replace with the actual path)\n",
        "directory = r\"C:\\Users\\asus\\Downloads\\dataset\\dataset\"\n",
        "\n",
        "# List to hold data from each file\n",
        "all_data = []\n",
        "\n",
        "# Iterate through each file in the directory\n",
        "for filename in os.listdir(directory):\n",
        "    if filename.endswith('.xlsx'):\n",
        "        file_path = os.path.join(directory, filename)\n",
        "        # Read the Excel file\n",
        "        df = pd.read_excel(file_path)\n",
        "        # Add the DataFrame to the list if the headers match\n",
        "        # Check if the list is empty or if the headers match the headers of the first DataFrame\n",
        "        if not all_data or (all_data and list(df.columns) == list(all_data[0].columns)):\n",
        "            all_data.append(df)\n",
        "        else:\n",
        "            print(f\"Headers do not match in file: {filename}\")\n",
        "            # Handle the case when headers do not match\n",
        "\n",
        "# Combine all DataFrames into one\n",
        "combined_df = pd.concat(all_data, ignore_index=True)\n",
        "\n",
        "# Save the combined DataFrame to a new Excel file\n",
        "output_file = os.path.join(directory, '2014-2019.xlsx')\n",
        "combined_df.to_excel(output_file, index=False)\n",
        "\n",
        "print(\"Combined Excel file created.\")\n",
        "\n",
        "# specific path for the xlsx file\n",
        "xlsx_path = r\"C:\\Users\\asus\\Downloads\\dataset\\dataset\\2014-2019.xlsx\"\n",
        "# Specify the output CSV file path\n",
        "csv_path = r\"C:\\Users\\asus\\Downloads\\dataset\\dataset\\2014-2019.csv\"\n",
        "\n",
        "# Read the Excel file into a pandas DataFrame\n",
        "df = pd.read_excel(xlsx_path)\n",
        "# Save the DataFrame to a CSV file\n",
        "df.to_csv(csv_path, index=False)\n",
        "\n",
        "print(f\"File has been converted to CSV and saved at {csv_path}\")\n",
        "\n"
      ]
    },
    {
      "cell_type": "code",
      "source": [],
      "metadata": {
        "id": "ywqMNXo1NP1A"
      },
      "execution_count": null,
      "outputs": []
    },
    {
      "cell_type": "code",
      "source": [],
      "metadata": {
        "id": "DBw3jJWFNP3_"
      },
      "execution_count": null,
      "outputs": []
    },
    {
      "cell_type": "code",
      "source": [],
      "metadata": {
        "id": "wqPXAmnvNP7K"
      },
      "execution_count": null,
      "outputs": []
    },
    {
      "cell_type": "code",
      "source": [],
      "metadata": {
        "id": "ffk7XHJDNP-z"
      },
      "execution_count": null,
      "outputs": []
    },
    {
      "cell_type": "code",
      "source": [],
      "metadata": {
        "id": "TilKs_I-NQBv"
      },
      "execution_count": null,
      "outputs": []
    },
    {
      "cell_type": "code",
      "source": [],
      "metadata": {
        "id": "wiaEgkc1NQFJ"
      },
      "execution_count": null,
      "outputs": []
    }
  ]
}