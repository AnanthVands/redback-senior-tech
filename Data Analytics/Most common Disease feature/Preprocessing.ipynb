{
  "cells": [
    {
      "cell_type": "code",
      "execution_count": 2,
      "metadata": {
        "id": "bEgDqedJNJri"
      },
      "outputs": [
        {
          "name": "stdout",
          "output_type": "stream",
          "text": [
            "Combined Excel file created.\n",
            "File has been converted to CSV and saved at C:\\Users\\asus\\Desktop\\Elderly_Wearable_Tech\\Data Analytics\\Most common Disease feature\\dataset\\2014-2019.csv\n"
          ]
        }
      ],
      "source": [
        "import pandas as pd\n",
        "import os\n",
        "\n",
        "directory = r\"C:\\Users\\asus\\Desktop\\Elderly_Wearable_Tech\\Data Analytics\\Most common Disease feature\\dataset\"\n",
        "\n",
        "# List to hold data from each file\n",
        "all_data = []\n",
        "\n",
        "# Iterate through each file in the directory\n",
        "for filename in os.listdir(directory):\n",
        "    if filename.endswith('.xlsx'):\n",
        "        file_path = os.path.join(directory, filename)\n",
        "        df = pd.read_excel(file_path)\n",
        "        if not all_data or (all_data and list(df.columns) == list(all_data[0].columns)):\n",
        "            all_data.append(df)\n",
        "        else:\n",
        "            print(f\"Headers do not match in file: {filename}\")\n",
        "            # Handle the case when headers do not match\n",
        "\n",
        "# Combine all DataFrames into one\n",
        "combined_df = pd.concat(all_data, ignore_index=True)\n",
        "\n",
        "# Save the combined DataFrame to a new Excel file\n",
        "output_file = os.path.join(directory, '2014-2019.xlsx')\n",
        "combined_df.to_excel(output_file, index=False)\n",
        "print(\"Combined Excel file created.\")\n",
        "\n",
        "# specific path for the xlsx file\n",
        "xlsx_path = r\"C:\\Users\\asus\\Desktop\\Elderly_Wearable_Tech\\Data Analytics\\Most common Disease feature\\dataset\\2014-2019.xlsx\"\n",
        "# Specify the output CSV file path\n",
        "csv_path = r\"C:\\Users\\asus\\Desktop\\Elderly_Wearable_Tech\\Data Analytics\\Most common Disease feature\\dataset\\2014-2019.csv\"\n",
        "\n",
        "# Read the Excel file into a pandas DataFrame\n",
        "df = pd.read_excel(xlsx_path)\n",
        "# Save the DataFrame to a CSV file\n",
        "df.to_csv(csv_path, index=False)\n",
        "\n",
        "print(f\"File has been converted to CSV and saved at {csv_path}\")"
      ]
    },
    {
      "cell_type": "code",
      "execution_count": null,
      "metadata": {
        "id": "ywqMNXo1NP1A"
      },
      "outputs": [],
      "source": []
    },
    {
      "cell_type": "code",
      "execution_count": null,
      "metadata": {
        "id": "DBw3jJWFNP3_"
      },
      "outputs": [],
      "source": []
    },
    {
      "cell_type": "code",
      "execution_count": null,
      "metadata": {
        "id": "wqPXAmnvNP7K"
      },
      "outputs": [],
      "source": []
    },
    {
      "cell_type": "code",
      "execution_count": null,
      "metadata": {
        "id": "ffk7XHJDNP-z"
      },
      "outputs": [],
      "source": []
    },
    {
      "cell_type": "code",
      "execution_count": null,
      "metadata": {
        "id": "TilKs_I-NQBv"
      },
      "outputs": [],
      "source": []
    },
    {
      "cell_type": "code",
      "execution_count": null,
      "metadata": {
        "id": "wiaEgkc1NQFJ"
      },
      "outputs": [],
      "source": []
    }
  ],
  "metadata": {
    "colab": {
      "provenance": []
    },
    "kernelspec": {
      "display_name": "Python 3",
      "name": "python3"
    },
    "language_info": {
      "codemirror_mode": {
        "name": "ipython",
        "version": 3
      },
      "file_extension": ".py",
      "mimetype": "text/x-python",
      "name": "python",
      "nbconvert_exporter": "python",
      "pygments_lexer": "ipython3",
      "version": "3.11.0"
    }
  },
  "nbformat": 4,
  "nbformat_minor": 0
}
