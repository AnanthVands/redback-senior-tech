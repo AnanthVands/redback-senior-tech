{
  "nbformat": 4,
  "nbformat_minor": 0,
  "metadata": {
    "colab": {
      "provenance": []
    },
    "kernelspec": {
      "name": "python3",
      "display_name": "Python 3"
    },
    "language_info": {
      "name": "python"
    }
  },
  "cells": [
    {
      "cell_type": "code",
      "execution_count": 3,
      "metadata": {
        "collapsed": true,
        "id": "kbuV3bFMoX7r"
      },
      "outputs": [],
      "source": [
        "# Import TensorFlow, Keras and supporting libraries\n",
        "import tensorflow as tf\n",
        "import numpy as np\n",
        "from sklearn.model_selection import train_test_split\n",
        "from sklearn.metrics import classification_report, confusion_matrix"
      ]
    },
    {
      "cell_type": "code",
      "source": [
        "# Load your dataset\n",
        "\n",
        "# Fake data that will not work\n",
        "# X contains gyro and accelerometer data (e.g., shape = (n_samples, 6))\n",
        "# y contains labels (0 for no tremor, 1 for Parkinson's tremor)\n",
        "def load_data():\n",
        "    # Simulated data\n",
        "    X = np.random.rand(1000, 6)  # Replace with actual gyro and accelerometer data\n",
        "    y = np.random.randint(0, 2, 1000)  # Replace with actual labels\n",
        "    return X, y\n",
        "\n",
        "# Load data\n",
        "X, y = load_data()"
      ],
      "metadata": {
        "id": "uUZncy95pFVJ"
      },
      "execution_count": 4,
      "outputs": []
    },
    {
      "cell_type": "code",
      "source": [
        "# Split the data into training and test sets\n",
        "X_train, X_test, y_train, y_test = train_test_split(X, y, test_size=0.2, random_state=42)"
      ],
      "metadata": {
        "id": "RbVhAEZwpSUT"
      },
      "execution_count": 5,
      "outputs": []
    },
    {
      "cell_type": "code",
      "source": [
        "# Normalize the data\n",
        "mean = np.mean(X_train, axis=0)\n",
        "std = np.std(X_train, axis=0)\n",
        "X_train = (X_train - mean) / std\n",
        "X_test = (X_test - mean) / std"
      ],
      "metadata": {
        "id": "P3IOWZ0Hpfyc"
      },
      "execution_count": 6,
      "outputs": []
    },
    {
      "cell_type": "code",
      "source": [
        "# Build the SVM model using TensorFlow\n",
        "class SVMModel(tf.keras.Model):\n",
        "    def __init__(self):\n",
        "        super(SVMModel, self).__init__()\n",
        "        self.dense = tf.keras.layers.Dense(1, kernel_regularizer=tf.keras.regularizers.l2(0.01))\n",
        "\n",
        "    def call(self, inputs):\n",
        "        logits = self.dense(inputs)\n",
        "        return logits\n",
        "\n",
        "# Initialize the model\n",
        "model = SVMModel()\n",
        "\n",
        "# Loss function for SVM (hinge loss)\n",
        "def hinge_loss(y_true, y_pred):\n",
        "    y_true = tf.cast(y_true, tf.float32)\n",
        "    return tf.reduce_mean(tf.maximum(0.0, 1 - y_true * y_pred))"
      ],
      "metadata": {
        "id": "69nDbsigphwk"
      },
      "execution_count": 7,
      "outputs": []
    },
    {
      "cell_type": "code",
      "source": [
        "# Compile the model\n",
        "model.compile(optimizer=tf.keras.optimizers.Adam(learning_rate=0.001), loss=hinge_loss, metrics=['accuracy'])\n",
        "\n",
        "# Train the model\n",
        "y_train_svm = 2 * y_train - 1  # Convert labels to -1 and 1 for SVM\n",
        "y_test_svm = 2 * y_test - 1    # Convert labels to -1 and 1 for SVM\n",
        "model.fit(X_train, y_train_svm, epochs=50, batch_size=32, verbose=2)"
      ],
      "metadata": {
        "colab": {
          "base_uri": "https://localhost:8080/"
        },
        "id": "-lkiFWjqpsUR",
        "outputId": "63d3a5d8-b92c-4be6-831b-7de4e57ef819"
      },
      "execution_count": 8,
      "outputs": [
        {
          "output_type": "stream",
          "name": "stdout",
          "text": [
            "Epoch 1/50\n",
            "25/25 - 1s - 22ms/step - accuracy: 0.1725 - loss: 1.1174\n",
            "Epoch 2/50\n",
            "25/25 - 0s - 2ms/step - accuracy: 0.1713 - loss: 1.1086\n",
            "Epoch 3/50\n",
            "25/25 - 0s - 2ms/step - accuracy: 0.1700 - loss: 1.1002\n",
            "Epoch 4/50\n",
            "25/25 - 0s - 3ms/step - accuracy: 0.1675 - loss: 1.0916\n",
            "Epoch 5/50\n",
            "25/25 - 0s - 5ms/step - accuracy: 0.1612 - loss: 1.0839\n",
            "Epoch 6/50\n",
            "25/25 - 0s - 2ms/step - accuracy: 0.1600 - loss: 1.0765\n",
            "Epoch 7/50\n",
            "25/25 - 0s - 3ms/step - accuracy: 0.1587 - loss: 1.0692\n",
            "Epoch 8/50\n",
            "25/25 - 0s - 2ms/step - accuracy: 0.1575 - loss: 1.0622\n",
            "Epoch 9/50\n",
            "25/25 - 0s - 2ms/step - accuracy: 0.1575 - loss: 1.0557\n",
            "Epoch 10/50\n",
            "25/25 - 0s - 2ms/step - accuracy: 0.1538 - loss: 1.0498\n",
            "Epoch 11/50\n",
            "25/25 - 0s - 2ms/step - accuracy: 0.1488 - loss: 1.0443\n",
            "Epoch 12/50\n",
            "25/25 - 0s - 2ms/step - accuracy: 0.1462 - loss: 1.0390\n",
            "Epoch 13/50\n",
            "25/25 - 0s - 2ms/step - accuracy: 0.1425 - loss: 1.0347\n",
            "Epoch 14/50\n",
            "25/25 - 0s - 2ms/step - accuracy: 0.1388 - loss: 1.0303\n",
            "Epoch 15/50\n",
            "25/25 - 0s - 2ms/step - accuracy: 0.1388 - loss: 1.0265\n",
            "Epoch 16/50\n",
            "25/25 - 0s - 2ms/step - accuracy: 0.1338 - loss: 1.0224\n",
            "Epoch 17/50\n",
            "25/25 - 0s - 2ms/step - accuracy: 0.1312 - loss: 1.0191\n",
            "Epoch 18/50\n",
            "25/25 - 0s - 3ms/step - accuracy: 0.1275 - loss: 1.0157\n",
            "Epoch 19/50\n",
            "25/25 - 0s - 5ms/step - accuracy: 0.1262 - loss: 1.0124\n",
            "Epoch 20/50\n",
            "25/25 - 0s - 2ms/step - accuracy: 0.1238 - loss: 1.0099\n",
            "Epoch 21/50\n",
            "25/25 - 0s - 2ms/step - accuracy: 0.1238 - loss: 1.0075\n",
            "Epoch 22/50\n",
            "25/25 - 0s - 2ms/step - accuracy: 0.1213 - loss: 1.0056\n",
            "Epoch 23/50\n",
            "25/25 - 0s - 2ms/step - accuracy: 0.1200 - loss: 1.0038\n",
            "Epoch 24/50\n",
            "25/25 - 0s - 2ms/step - accuracy: 0.1175 - loss: 1.0023\n",
            "Epoch 25/50\n",
            "25/25 - 0s - 2ms/step - accuracy: 0.1150 - loss: 1.0008\n",
            "Epoch 26/50\n",
            "25/25 - 0s - 2ms/step - accuracy: 0.1150 - loss: 0.9997\n",
            "Epoch 27/50\n",
            "25/25 - 0s - 2ms/step - accuracy: 0.1088 - loss: 0.9985\n",
            "Epoch 28/50\n",
            "25/25 - 0s - 2ms/step - accuracy: 0.1075 - loss: 0.9974\n",
            "Epoch 29/50\n",
            "25/25 - 0s - 2ms/step - accuracy: 0.1050 - loss: 0.9966\n",
            "Epoch 30/50\n",
            "25/25 - 0s - 3ms/step - accuracy: 0.1037 - loss: 0.9959\n",
            "Epoch 31/50\n",
            "25/25 - 0s - 5ms/step - accuracy: 0.1013 - loss: 0.9949\n",
            "Epoch 32/50\n",
            "25/25 - 0s - 5ms/step - accuracy: 0.0988 - loss: 0.9941\n",
            "Epoch 33/50\n",
            "25/25 - 0s - 3ms/step - accuracy: 0.0950 - loss: 0.9936\n",
            "Epoch 34/50\n",
            "25/25 - 0s - 4ms/step - accuracy: 0.0975 - loss: 0.9927\n",
            "Epoch 35/50\n",
            "25/25 - 0s - 5ms/step - accuracy: 0.0962 - loss: 0.9924\n",
            "Epoch 36/50\n",
            "25/25 - 0s - 5ms/step - accuracy: 0.0975 - loss: 0.9917\n",
            "Epoch 37/50\n",
            "25/25 - 0s - 5ms/step - accuracy: 0.0988 - loss: 0.9911\n",
            "Epoch 38/50\n",
            "25/25 - 0s - 6ms/step - accuracy: 0.1000 - loss: 0.9907\n",
            "Epoch 39/50\n",
            "25/25 - 0s - 5ms/step - accuracy: 0.1000 - loss: 0.9901\n",
            "Epoch 40/50\n",
            "25/25 - 0s - 5ms/step - accuracy: 0.1000 - loss: 0.9898\n",
            "Epoch 41/50\n",
            "25/25 - 0s - 6ms/step - accuracy: 0.1025 - loss: 0.9893\n",
            "Epoch 42/50\n",
            "25/25 - 0s - 5ms/step - accuracy: 0.1025 - loss: 0.9889\n",
            "Epoch 43/50\n",
            "25/25 - 0s - 6ms/step - accuracy: 0.1013 - loss: 0.9883\n",
            "Epoch 44/50\n",
            "25/25 - 0s - 5ms/step - accuracy: 0.1013 - loss: 0.9877\n",
            "Epoch 45/50\n",
            "25/25 - 0s - 6ms/step - accuracy: 0.1013 - loss: 0.9874\n",
            "Epoch 46/50\n",
            "25/25 - 0s - 6ms/step - accuracy: 0.1013 - loss: 0.9871\n",
            "Epoch 47/50\n",
            "25/25 - 0s - 5ms/step - accuracy: 0.1000 - loss: 0.9866\n",
            "Epoch 48/50\n",
            "25/25 - 0s - 3ms/step - accuracy: 0.1025 - loss: 0.9862\n",
            "Epoch 49/50\n",
            "25/25 - 0s - 6ms/step - accuracy: 0.0975 - loss: 0.9857\n",
            "Epoch 50/50\n",
            "25/25 - 0s - 6ms/step - accuracy: 0.0988 - loss: 0.9853\n"
          ]
        },
        {
          "output_type": "execute_result",
          "data": {
            "text/plain": [
              "<keras.src.callbacks.history.History at 0x7c9ed7d48160>"
            ]
          },
          "metadata": {},
          "execution_count": 8
        }
      ]
    },
    {
      "cell_type": "code",
      "source": [
        "# Evaluate the model\n",
        "y_pred = model.predict(X_test)\n",
        "y_pred_labels = np.where(y_pred.flatten() >= 0, 1, 0)\n",
        "\n",
        "# Display metrics\n",
        "print(\"Classification Report:\")\n",
        "print(classification_report(y_test, y_pred_labels))\n",
        "\n",
        "print(\"Confusion Matrix:\")\n",
        "print(confusion_matrix(y_test, y_pred_labels))"
      ],
      "metadata": {
        "colab": {
          "base_uri": "https://localhost:8080/"
        },
        "id": "NDnWyHjdp2is",
        "outputId": "bb0f672b-522a-4361-b25b-b039f6f05daf"
      },
      "execution_count": 9,
      "outputs": [
        {
          "output_type": "stream",
          "name": "stdout",
          "text": [
            "\u001b[1m7/7\u001b[0m \u001b[32m━━━━━━━━━━━━━━━━━━━━\u001b[0m\u001b[37m\u001b[0m \u001b[1m0s\u001b[0m 6ms/step \n",
            "Classification Report:\n",
            "              precision    recall  f1-score   support\n",
            "\n",
            "           0       0.52      0.46      0.49       106\n",
            "           1       0.46      0.52      0.49        94\n",
            "\n",
            "    accuracy                           0.49       200\n",
            "   macro avg       0.49      0.49      0.49       200\n",
            "weighted avg       0.49      0.49      0.49       200\n",
            "\n",
            "Confusion Matrix:\n",
            "[[49 57]\n",
            " [45 49]]\n"
          ]
        }
      ]
    }
  ]
}