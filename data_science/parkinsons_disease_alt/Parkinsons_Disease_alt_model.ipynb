{
  "nbformat": 4,
  "nbformat_minor": 0,
  "metadata": {
    "colab": {
      "provenance": [],
      "collapsed_sections": [
        "Af5Pk8KVUrZ_"
      ]
    },
    "kernelspec": {
      "name": "python3",
      "display_name": "Python 3"
    },
    "language_info": {
      "name": "python"
    }
  },
  "cells": [
    {
      "cell_type": "markdown",
      "metadata": {
        "id": "xGm8Hzfz0CoJ"
      },
      "source": [
        "# **Parkinson's Disease (PD) Wrist-Mounted Prediction Model**\n",
        "<div class=\"alert-info\">\n",
        "    <p>Redback Operations: <strong>Lachesis\n",
        "     </strong> </p>"
      ]
    },
    {
      "cell_type": "markdown",
      "metadata": {
        "id": "Af5Pk8KVUrZ_"
      },
      "source": [
        "## **Model Objective**"
      ]
    },
    {
      "cell_type": "markdown",
      "metadata": {
        "id": "PYRHXH9t0uNR"
      },
      "source": [
        "The objective of this model is to utilise data extracted from sensors on a wrist-mounted device to determine if a user is experiencing hand tremors, which are a symptom of Parkinson's Disease."
      ]
    },
    {
      "cell_type": "markdown",
      "metadata": {
        "id": "6MlnxxJIDLeC"
      },
      "source": [
        "## **Model Implementation**"
      ]
    },
    {
      "cell_type": "code",
      "execution_count": null,
      "metadata": {
        "collapsed": true,
        "id": "kbuV3bFMoX7r"
      },
      "outputs": [],
      "source": [
        "# Import TensorFlow, Keras and supporting libraries\n",
        "\n",
        "import tensorflow as tf\n",
        "import numpy as np\n",
        "import pandas as pd\n",
        "\n",
        "from sklearn.model_selection import train_test_split\n",
        "from sklearn.metrics import classification_report, confusion_matrix"
      ]
    },
    {
      "cell_type": "code",
      "source": [
        "# Load the dataset from the google colab drive\n",
        "\n",
        "from google.colab import drive\n",
        "drive.mount('/content/drive')"
      ],
      "metadata": {
        "colab": {
          "base_uri": "https://localhost:8080/"
        },
        "id": "ap3ZqdJiSwlY",
        "outputId": "a573e83a-97ab-4d94-8b00-43c31f64c12f"
      },
      "execution_count": null,
      "outputs": [
        {
          "output_type": "stream",
          "name": "stdout",
          "text": [
            "Drive already mounted at /content/drive; to attempt to forcibly remount, call drive.mount(\"/content/drive\", force_remount=True).\n"
          ]
        }
      ]
    },
    {
      "cell_type": "code",
      "source": [
        "dataset = pd.read_csv(\"/content/drive/MyDrive/Colab_Notebooks/TempDataset.csv\")"
      ],
      "metadata": {
        "id": "QTpxN98wVehe"
      },
      "execution_count": null,
      "outputs": []
    },
    {
      "cell_type": "code",
      "source": [
        "# Load your dataset\n",
        "# PLEASE NOTE THIS DATASET CURRENTLY HAD 9 FEATURES\n",
        "\n",
        "# X contains gyro and accelerometer data\n",
        "# y contains labels (0 for no tremor, 1 for Parkinson's tremor)\n",
        "def load_data():\n",
        "    data = df\n",
        "    X = data.iloc[:, :-4].values\n",
        "    y = data.iloc[:, -1].values\n",
        "    return X, y\n",
        "\n",
        "# Randomised dataset\n",
        "#def load_data():\n",
        "#    X = np.random.rand(1000, 6)\n",
        "#    y = np.random.randint(0, 2, 1000)\n",
        "#    return X, y\n",
        "\n",
        "# Load data\n",
        "X, y = load_data()"
      ],
      "metadata": {
        "id": "umCgMZyhW9a-"
      },
      "execution_count": null,
      "outputs": []
    },
    {
      "cell_type": "code",
      "source": [
        "# Split the data into training and test sets\n",
        "\n",
        "X_train, X_test, y_train, y_test = train_test_split(X, y, test_size = 0.2, random_state = 42)"
      ],
      "metadata": {
        "id": "RbVhAEZwpSUT"
      },
      "execution_count": null,
      "outputs": []
    },
    {
      "cell_type": "code",
      "source": [
        "# Normalize the data\n",
        "\n",
        "mean = np.mean(X_train, axis = 0)\n",
        "std = np.std(X_train, axis = 0)\n",
        "X_train = (X_train - mean) / std\n",
        "X_test = (X_test - mean) / std"
      ],
      "metadata": {
        "id": "P3IOWZ0Hpfyc"
      },
      "execution_count": null,
      "outputs": []
    },
    {
      "cell_type": "code",
      "source": [
        "# Build the SVM model using TensorFlow\n",
        "\n",
        "class SVMModel(tf.keras.Model):\n",
        "    def __init__(self):\n",
        "        super(SVMModel, self).__init__()\n",
        "        self.dense = tf.keras.layers.Dense(1, kernel_regularizer = tf.keras.regularizers.l2(0.01))\n",
        "\n",
        "    def call(self, inputs):\n",
        "        logits = self.dense(inputs)\n",
        "        return logits\n",
        "\n",
        "# Initialize the model\n",
        "\n",
        "model = SVMModel()\n",
        "\n",
        "# Loss function for SVM (hinge loss)\n",
        "\n",
        "def hinge_loss(y_true, y_pred):\n",
        "    y_true = tf.cast(y_true, tf.float32)\n",
        "    return tf.reduce_mean(tf.maximum(0.0, 1 - y_true * y_pred))"
      ],
      "metadata": {
        "id": "69nDbsigphwk"
      },
      "execution_count": null,
      "outputs": []
    },
    {
      "cell_type": "code",
      "source": [
        "# Compile the model\n",
        "\n",
        "model.compile(optimizer=tf.keras.optimizers.Adam(learning_rate = 0.001), loss = hinge_loss, metrics = ['accuracy'])\n",
        "\n",
        "# Train the model\n",
        "\n",
        "y_train_svm = 2 * y_train - 1  # Convert labels to -1 and 1 for SVM\n",
        "y_test_svm = 2 * y_test - 1    # Convert labels to -1 and 1 for SVM\n",
        "model.fit(X_train, y_train_svm, epochs = 50, batch_size = 32, verbose = 2)"
      ],
      "metadata": {
        "colab": {
          "base_uri": "https://localhost:8080/"
        },
        "id": "-lkiFWjqpsUR",
        "outputId": "867487b5-cd41-45dc-9f73-e3872864bbcc"
      },
      "execution_count": null,
      "outputs": [
        {
          "output_type": "stream",
          "name": "stdout",
          "text": [
            "Epoch 1/50\n",
            "25/25 - 1s - 22ms/step - accuracy: 0.0925 - loss: 1.0718\n",
            "Epoch 2/50\n",
            "25/25 - 0s - 2ms/step - accuracy: 0.0900 - loss: 1.0533\n",
            "Epoch 3/50\n",
            "25/25 - 0s - 2ms/step - accuracy: 0.0850 - loss: 1.0353\n",
            "Epoch 4/50\n",
            "25/25 - 0s - 3ms/step - accuracy: 0.0825 - loss: 1.0180\n",
            "Epoch 5/50\n",
            "25/25 - 0s - 2ms/step - accuracy: 0.0812 - loss: 1.0011\n",
            "Epoch 6/50\n",
            "25/25 - 0s - 2ms/step - accuracy: 0.0800 - loss: 0.9852\n",
            "Epoch 7/50\n",
            "25/25 - 0s - 2ms/step - accuracy: 0.0750 - loss: 0.9698\n",
            "Epoch 8/50\n",
            "25/25 - 0s - 2ms/step - accuracy: 0.0737 - loss: 0.9555\n",
            "Epoch 9/50\n",
            "25/25 - 0s - 2ms/step - accuracy: 0.0712 - loss: 0.9414\n",
            "Epoch 10/50\n",
            "25/25 - 0s - 2ms/step - accuracy: 0.0675 - loss: 0.9275\n",
            "Epoch 11/50\n",
            "25/25 - 0s - 2ms/step - accuracy: 0.0637 - loss: 0.9142\n",
            "Epoch 12/50\n",
            "25/25 - 0s - 2ms/step - accuracy: 0.0562 - loss: 0.9017\n",
            "Epoch 13/50\n",
            "25/25 - 0s - 2ms/step - accuracy: 0.0475 - loss: 0.8892\n",
            "Epoch 14/50\n",
            "25/25 - 0s - 2ms/step - accuracy: 0.0437 - loss: 0.8773\n",
            "Epoch 15/50\n",
            "25/25 - 0s - 3ms/step - accuracy: 0.0400 - loss: 0.8649\n",
            "Epoch 16/50\n",
            "25/25 - 0s - 2ms/step - accuracy: 0.0375 - loss: 0.8536\n",
            "Epoch 17/50\n",
            "25/25 - 0s - 2ms/step - accuracy: 0.0362 - loss: 0.8419\n",
            "Epoch 18/50\n",
            "25/25 - 0s - 2ms/step - accuracy: 0.0338 - loss: 0.8306\n",
            "Epoch 19/50\n",
            "25/25 - 0s - 2ms/step - accuracy: 0.0312 - loss: 0.8192\n",
            "Epoch 20/50\n",
            "25/25 - 0s - 6ms/step - accuracy: 0.0262 - loss: 0.8077\n",
            "Epoch 21/50\n",
            "25/25 - 0s - 5ms/step - accuracy: 0.0237 - loss: 0.7968\n",
            "Epoch 22/50\n",
            "25/25 - 0s - 3ms/step - accuracy: 0.0225 - loss: 0.7857\n",
            "Epoch 23/50\n",
            "25/25 - 0s - 3ms/step - accuracy: 0.0213 - loss: 0.7750\n",
            "Epoch 24/50\n",
            "25/25 - 0s - 5ms/step - accuracy: 0.0200 - loss: 0.7639\n",
            "Epoch 25/50\n",
            "25/25 - 0s - 3ms/step - accuracy: 0.0188 - loss: 0.7531\n",
            "Epoch 26/50\n",
            "25/25 - 0s - 6ms/step - accuracy: 0.0188 - loss: 0.7425\n",
            "Epoch 27/50\n",
            "25/25 - 0s - 6ms/step - accuracy: 0.0175 - loss: 0.7325\n",
            "Epoch 28/50\n",
            "25/25 - 0s - 6ms/step - accuracy: 0.0162 - loss: 0.7225\n",
            "Epoch 29/50\n",
            "25/25 - 0s - 5ms/step - accuracy: 0.0162 - loss: 0.7129\n",
            "Epoch 30/50\n",
            "25/25 - 0s - 6ms/step - accuracy: 0.0162 - loss: 0.7033\n",
            "Epoch 31/50\n",
            "25/25 - 0s - 3ms/step - accuracy: 0.0150 - loss: 0.6945\n",
            "Epoch 32/50\n",
            "25/25 - 0s - 5ms/step - accuracy: 0.0150 - loss: 0.6861\n",
            "Epoch 33/50\n",
            "25/25 - 0s - 3ms/step - accuracy: 0.0137 - loss: 0.6780\n",
            "Epoch 34/50\n",
            "25/25 - 0s - 6ms/step - accuracy: 0.0125 - loss: 0.6705\n",
            "Epoch 35/50\n",
            "25/25 - 0s - 5ms/step - accuracy: 0.0125 - loss: 0.6630\n",
            "Epoch 36/50\n",
            "25/25 - 0s - 5ms/step - accuracy: 0.0113 - loss: 0.6561\n",
            "Epoch 37/50\n",
            "25/25 - 0s - 6ms/step - accuracy: 0.0088 - loss: 0.6496\n",
            "Epoch 38/50\n",
            "25/25 - 0s - 5ms/step - accuracy: 0.0050 - loss: 0.6435\n",
            "Epoch 39/50\n",
            "25/25 - 0s - 3ms/step - accuracy: 0.0037 - loss: 0.6373\n",
            "Epoch 40/50\n",
            "25/25 - 0s - 6ms/step - accuracy: 0.0037 - loss: 0.6316\n",
            "Epoch 41/50\n",
            "25/25 - 0s - 4ms/step - accuracy: 0.0037 - loss: 0.6262\n",
            "Epoch 42/50\n",
            "25/25 - 0s - 4ms/step - accuracy: 0.0025 - loss: 0.6210\n",
            "Epoch 43/50\n",
            "25/25 - 0s - 5ms/step - accuracy: 0.0025 - loss: 0.6163\n",
            "Epoch 44/50\n",
            "25/25 - 0s - 5ms/step - accuracy: 0.0025 - loss: 0.6121\n",
            "Epoch 45/50\n",
            "25/25 - 0s - 7ms/step - accuracy: 0.0025 - loss: 0.6084\n",
            "Epoch 46/50\n",
            "25/25 - 0s - 4ms/step - accuracy: 0.0025 - loss: 0.6051\n",
            "Epoch 47/50\n",
            "25/25 - 0s - 3ms/step - accuracy: 0.0000e+00 - loss: 0.6015\n",
            "Epoch 48/50\n",
            "25/25 - 0s - 6ms/step - accuracy: 0.0000e+00 - loss: 0.5986\n",
            "Epoch 49/50\n",
            "25/25 - 0s - 5ms/step - accuracy: 0.0000e+00 - loss: 0.5956\n",
            "Epoch 50/50\n",
            "25/25 - 0s - 2ms/step - accuracy: 0.0000e+00 - loss: 0.5931\n"
          ]
        },
        {
          "output_type": "execute_result",
          "data": {
            "text/plain": [
              "<keras.src.callbacks.history.History at 0x78b929023490>"
            ]
          },
          "metadata": {},
          "execution_count": 46
        }
      ]
    },
    {
      "cell_type": "code",
      "source": [
        "# Evaluate the model\n",
        "\n",
        "y_pred = model.predict(X_test)\n",
        "y_pred_labels = np.where(y_pred.flatten() >= 0, 1, 0)\n",
        "\n",
        "# Display metrics\n",
        "\n",
        "print(\"Classification Report:\")\n",
        "print(classification_report(y_test, y_pred_labels))\n",
        "\n",
        "print(\"Confusion Matrix:\")\n",
        "print(confusion_matrix(y_test, y_pred_labels))"
      ],
      "metadata": {
        "id": "NDnWyHjdp2is",
        "outputId": "d0551706-ac14-414a-8e47-38c88e89efd4",
        "colab": {
          "base_uri": "https://localhost:8080/"
        }
      },
      "execution_count": null,
      "outputs": [
        {
          "output_type": "stream",
          "name": "stdout",
          "text": [
            "\u001b[1m7/7\u001b[0m \u001b[32m━━━━━━━━━━━━━━━━━━━━\u001b[0m\u001b[37m\u001b[0m \u001b[1m0s\u001b[0m 4ms/step \n",
            "Classification Report:\n",
            "              precision    recall  f1-score   support\n",
            "\n",
            "         0.0       0.64      1.00      0.78       126\n",
            "         1.0       1.00      0.03      0.05        74\n",
            "\n",
            "    accuracy                           0.64       200\n",
            "   macro avg       0.82      0.51      0.42       200\n",
            "weighted avg       0.77      0.64      0.51       200\n",
            "\n",
            "Confusion Matrix:\n",
            "[[126   0]\n",
            " [ 72   2]]\n"
          ]
        }
      ]
    },
    {
      "cell_type": "code",
      "source": [
        "X_train"
      ],
      "metadata": {
        "colab": {
          "base_uri": "https://localhost:8080/"
        },
        "id": "8ERjcNTJY21T",
        "outputId": "a2da2935-dce6-4281-b07e-87772c33f349"
      },
      "execution_count": null,
      "outputs": [
        {
          "output_type": "execute_result",
          "data": {
            "text/plain": [
              "array([[ 8.98023670e-01, -1.20146660e-01,  2.73868302e-01,\n",
              "         1.43499414e+00, -5.78826766e-01,  7.86241294e-01],\n",
              "       [ 2.89450115e-01,  7.09002091e-01,  3.54428003e-01,\n",
              "        -2.96360362e-01,  6.55755884e-02,  1.10650421e-02],\n",
              "       [ 1.32730307e+00, -9.89511866e-01, -1.32414564e+00,\n",
              "        -5.59035659e-01, -7.95240528e-01, -2.96571403e-01],\n",
              "       ...,\n",
              "       [-6.87270943e-02, -1.50237008e-01, -8.88777704e-01,\n",
              "         1.30416844e-01,  1.76242311e-01, -1.39473950e-01],\n",
              "       [ 1.03871520e+00, -1.12829900e-02, -4.53090604e-01,\n",
              "        -2.58411094e-01, -3.20339704e-02,  8.98647492e-01],\n",
              "       [ 1.40780193e+00,  5.79962628e-02, -4.44342203e-02,\n",
              "        -1.39697365e-03, -2.11122381e-01,  8.99701863e-02]])"
            ]
          },
          "metadata": {},
          "execution_count": 48
        }
      ]
    }
  ]
}